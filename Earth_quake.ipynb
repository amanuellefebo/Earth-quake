{
 "cells": [
  {
   "cell_type": "code",
   "execution_count": 1,
   "id": "00928352-90af-4c56-8361-46ec91c53bdc",
   "metadata": {},
   "outputs": [],
   "source": [
    "\n",
    "import pandas as pd\n",
    "import numpy as np\n",
    "from datetime import datetime as dt\n",
    "import seaborn as sns\n",
    "import plotly.express as px\n",
    "import streamlit as st"
   ]
  },
  {
   "cell_type": "code",
   "execution_count": 2,
   "id": "7a75c530-babe-4258-831e-fb792b9bccd8",
   "metadata": {},
   "outputs": [
    {
     "name": "stderr",
     "output_type": "stream",
     "text": [
      "2024-05-28 18:23:12.465 \n",
      "  \u001b[33m\u001b[1mWarning:\u001b[0m to view this Streamlit app on a browser, run it with the following\n",
      "  command:\n",
      "\n",
      "    streamlit run C:\\Users\\ritaj\\AppData\\Roaming\\Python\\Python311\\site-packages\\ipykernel_launcher.py [ARGUMENTS]\n"
     ]
    },
    {
     "data": {
      "text/plain": [
       "DeltaGenerator()"
      ]
     },
     "execution_count": 2,
     "metadata": {},
     "output_type": "execute_result"
    }
   ],
   "source": [
    "st.title('Smart Data Procesing Project')"
   ]
  },
  {
   "cell_type": "code",
   "execution_count": 3,
   "id": "0aea9644-474e-4fac-b5e8-a46bf71fe1f3",
   "metadata": {},
   "outputs": [
    {
     "data": {
      "text/plain": [
       "DeltaGenerator()"
      ]
     },
     "execution_count": 3,
     "metadata": {},
     "output_type": "execute_result"
    }
   ],
   "source": [
    "st.header('Introduction')"
   ]
  },
  {
   "cell_type": "markdown",
   "id": "ad3e642c-957a-4421-9c53-b8dd2213a7ed",
   "metadata": {},
   "source": [
    "st.text(\"In today's data-driven world, smart data processing has become a cornerstone for leveraging the vast amounts of information generated daily. \n",
    "This advanced approach to data management involves using sophisticated algorithms, machine learning, and artificial intelligence to transform raw data into actionable insights efficiently and accurately. Smart data processing enables organizations to optimize operations, enhance decision-making, and gain a competitive edge by uncovering patterns, trends, and correlations that were previously inaccessible. By harnessing the power of smart data processing, businesses can turn complexity into clarity, \n",
    "fostering innovation and driving growth in an increasingly digital landscape.\")"
   ]
  },
  {
   "cell_type": "code",
   "execution_count": 4,
   "id": "740255e7-a8f5-4348-b4fa-a652324a7995",
   "metadata": {},
   "outputs": [],
   "source": [
    "df=pd.read_csv(f'https://raw.githubusercontent.com/mbrajza/content/main/earthquakes_db.csv')"
   ]
  },
  {
   "cell_type": "code",
   "execution_count": 5,
   "id": "928b84ec-82bc-4d2d-8075-2ded8e725d53",
   "metadata": {},
   "outputs": [
    {
     "data": {
      "text/plain": [
       "DeltaGenerator()"
      ]
     },
     "execution_count": 5,
     "metadata": {},
     "output_type": "execute_result"
    }
   ],
   "source": [
    "st.header(\"General Information of the Data\")"
   ]
  },
  {
   "cell_type": "code",
   "execution_count": 6,
   "id": "9b26c4c8-2880-407a-9e28-5d4267827a99",
   "metadata": {},
   "outputs": [
    {
     "name": "stderr",
     "output_type": "stream",
     "text": [
      "2024-05-28 18:23:12.878 Serialization of dataframe to Arrow table was unsuccessful due to: (\"Could not convert dtype('O') with type numpy.dtype[object_]: did not recognize Python value type when inferring an Arrow data type\", 'Conversion failed for column 0 with type object'). Applying automatic fixes for column types to make the dataframe Arrow-compatible.\n"
     ]
    }
   ],
   "source": [
    "st.write(df.dtypes)"
   ]
  },
  {
   "cell_type": "code",
   "execution_count": 7,
   "id": "771d5f96-5413-4987-9b14-0e6079c9deee",
   "metadata": {},
   "outputs": [],
   "source": [
    "st.write(df.head())"
   ]
  },
  {
   "cell_type": "code",
   "execution_count": 8,
   "id": "ce90792e-e35c-4b08-b1c9-6e05c8b3df67",
   "metadata": {},
   "outputs": [
    {
     "name": "stdout",
     "output_type": "stream",
     "text": [
      "<class 'pandas.core.frame.DataFrame'>\n",
      "RangeIndex: 23412 entries, 0 to 23411\n",
      "Data columns (total 21 columns):\n",
      " #   Column                      Non-Null Count  Dtype  \n",
      "---  ------                      --------------  -----  \n",
      " 0   Date                        23412 non-null  object \n",
      " 1   Time                        23412 non-null  object \n",
      " 2   Latitude                    23412 non-null  float64\n",
      " 3   Longitude                   23412 non-null  float64\n",
      " 4   Type                        23412 non-null  object \n",
      " 5   Depth                       23412 non-null  float64\n",
      " 6   Depth Error                 4461 non-null   float64\n",
      " 7   Depth Seismic Stations      7097 non-null   float64\n",
      " 8   Magnitude                   23412 non-null  float64\n",
      " 9   Magnitude Type              23409 non-null  object \n",
      " 10  Magnitude Error             327 non-null    float64\n",
      " 11  Magnitude Seismic Stations  2564 non-null   float64\n",
      " 12  Azimuthal Gap               7299 non-null   float64\n",
      " 13  Horizontal Distance         1604 non-null   float64\n",
      " 14  Horizontal Error            1156 non-null   float64\n",
      " 15  Root Mean Square            17352 non-null  float64\n",
      " 16  ID                          23412 non-null  object \n",
      " 17  Source                      23412 non-null  object \n",
      " 18  Location Source             23412 non-null  object \n",
      " 19  Magnitude Source            23412 non-null  object \n",
      " 20  Status                      23412 non-null  object \n",
      "dtypes: float64(12), object(9)\n",
      "memory usage: 3.8+ MB\n"
     ]
    }
   ],
   "source": [
    "st.write(df.info())"
   ]
  },
  {
   "cell_type": "code",
   "execution_count": 9,
   "id": "76694144-fad3-4830-9a26-15dbfd063433",
   "metadata": {},
   "outputs": [],
   "source": [
    "st.write(df.describe())"
   ]
  },
  {
   "cell_type": "code",
   "execution_count": 10,
   "id": "6833566a-4fbd-43d0-888a-0d77305d0f6f",
   "metadata": {},
   "outputs": [],
   "source": [
    "st.write(df.isna().sum())"
   ]
  },
  {
   "cell_type": "markdown",
   "id": "ec57bd4c-4fa1-410f-9a14-30fc1f936ccd",
   "metadata": {},
   "source": [
    "\n",
    "st.header(\"1.Data Cleaning\")\n",
    "st.text(\"Data cleaning is the process of identifying and correcting errors, inconsistencies,\\\n",
    "and inaccuracies in a dataset to improve its quality and reliability. It involves tasks such as\\\n",
    "removing duplicates, filling in missing values, and correcting or removing erroneous data. \\\n",
    "This step is crucial for ensuring the accuracy of data analysis and making informed decisions based on the cleaned data.\")"
   ]
  },
  {
   "cell_type": "code",
   "execution_count": 11,
   "id": "c2177943-ec06-4b9a-98ac-1e8aed632226",
   "metadata": {},
   "outputs": [],
   "source": [
    "st.write(\"1.convert the data type of the object by using convert_dtypes function\")"
   ]
  },
  {
   "cell_type": "code",
   "execution_count": 12,
   "id": "d3fae34a-d9dc-48d4-88fd-65144d6cd04a",
   "metadata": {},
   "outputs": [
    {
     "name": "stderr",
     "output_type": "stream",
     "text": [
      "2024-05-28 18:23:13.035 Serialization of dataframe to Arrow table was unsuccessful due to: ('Could not convert string[python] with type StringDtype: did not recognize Python value type when inferring an Arrow data type', 'Conversion failed for column 0 with type object'). Applying automatic fixes for column types to make the dataframe Arrow-compatible.\n"
     ]
    }
   ],
   "source": [
    "df=df.convert_dtypes(infer_objects=True)\n",
    "st.write(df.dtypes)"
   ]
  },
  {
   "cell_type": "code",
   "execution_count": 13,
   "id": "c971bfa9-f643-4410-9c87-e6d5e7706de6",
   "metadata": {
    "scrolled": true
   },
   "outputs": [
    {
     "name": "stderr",
     "output_type": "stream",
     "text": [
      "2024-05-28 18:23:13.051 Serialization of dataframe to Arrow table was unsuccessful due to: ('Could not convert string[python] with type StringDtype: did not recognize Python value type when inferring an Arrow data type', 'Conversion failed for column 0 with type object'). Applying automatic fixes for column types to make the dataframe Arrow-compatible.\n"
     ]
    }
   ],
   "source": [
    "st.write(df.dtypes)"
   ]
  },
  {
   "cell_type": "code",
   "execution_count": 14,
   "id": "3853ebd6-de1f-4e47-b3f8-897d46630f90",
   "metadata": {},
   "outputs": [],
   "source": [
    "st.write('feature engineering has been made from two columns Date and time to create datetime object')"
   ]
  },
  {
   "cell_type": "code",
   "execution_count": 15,
   "id": "b84f7609-4cc4-4cae-800f-7494792578f4",
   "metadata": {},
   "outputs": [
    {
     "data": {
      "text/plain": [
       "DeltaGenerator()"
      ]
     },
     "execution_count": 15,
     "metadata": {},
     "output_type": "execute_result"
    }
   ],
   "source": [
    "st.text(\" 1. change the date column to datetime \\\n",
    "          2. create datetime string\\\n",
    "          3. create datetime columns which have date type datetime\\\n",
    "          4. drop the unwanted columns\")"
   ]
  },
  {
   "cell_type": "code",
   "execution_count": 16,
   "id": "d8f437a0-b903-487a-b627-768192a54e04",
   "metadata": {},
   "outputs": [],
   "source": [
    "df['Date']=pd.to_datetime(df['Date'],utc=True)"
   ]
  },
  {
   "cell_type": "code",
   "execution_count": 17,
   "id": "8a6983e3-f28f-4564-ba4d-4c632d513c60",
   "metadata": {},
   "outputs": [],
   "source": [
    "df['datetime_str'] = df['Date'].dt.year.astype(str) + '-' + \\\n",
    "                     df['Date'].dt.month.astype(str).str.zfill(2) + '-' + \\\n",
    "                     df['Date'].dt.day.astype(str).str.zfill(2) + ' ' + \\\n",
    "                     df['Time']"
   ]
  },
  {
   "cell_type": "code",
   "execution_count": 18,
   "id": "9599ccf0-acb1-4c08-9bf9-97d363542861",
   "metadata": {},
   "outputs": [],
   "source": [
    "df['datetime'] = pd.to_datetime(df['datetime_str'], format='%Y-%m-%d %H:%M:%S', errors='coerce')"
   ]
  },
  {
   "cell_type": "code",
   "execution_count": 19,
   "id": "b5a8ada7-6e09-4dcb-a1e3-7a5bc8e3fc42",
   "metadata": {},
   "outputs": [],
   "source": [
    "df.drop(['Date','Time','datetime_str'],inplace=True,axis=1)"
   ]
  },
  {
   "cell_type": "code",
   "execution_count": 20,
   "id": "7792e90e-d605-4b67-9d78-1d58cddb84e8",
   "metadata": {},
   "outputs": [],
   "source": [
    "st.write(\"The filtered columns that we have left is:\")\n",
    "st.write(df.columns)"
   ]
  },
  {
   "cell_type": "code",
   "execution_count": 21,
   "id": "d59700b0-e8df-4799-9999-05512f304c6a",
   "metadata": {
    "jp-MarkdownHeadingCollapsed": true
   },
   "outputs": [
    {
     "data": {
      "text/plain": [
       "DeltaGenerator()"
      ]
     },
     "execution_count": 21,
     "metadata": {},
     "output_type": "execute_result"
    }
   ],
   "source": [
    "st.header(\"which columns are not very important for our story telling and which columns have too much null values probably good to drop them ?\")"
   ]
  },
  {
   "cell_type": "code",
   "execution_count": 22,
   "id": "4f499a92-2eb2-48df-8af0-6c75587e786e",
   "metadata": {},
   "outputs": [
    {
     "data": {
      "text/plain": [
       "Latitude                          0\n",
       "Longitude                         0\n",
       "Type                              0\n",
       "Depth                             0\n",
       "Depth Error                   18951\n",
       "Depth Seismic Stations        16315\n",
       "Magnitude                         0\n",
       "Magnitude Type                    3\n",
       "Magnitude Error               23085\n",
       "Magnitude Seismic Stations    20848\n",
       "Azimuthal Gap                 16113\n",
       "Horizontal Distance           21808\n",
       "Horizontal Error              22256\n",
       "Root Mean Square               6060\n",
       "ID                                0\n",
       "Source                            0\n",
       "Location Source                   0\n",
       "Magnitude Source                  0\n",
       "Status                            0\n",
       "datetime                          3\n",
       "dtype: int64"
      ]
     },
     "execution_count": 22,
     "metadata": {},
     "output_type": "execute_result"
    }
   ],
   "source": [
    "df.isna().sum()"
   ]
  },
  {
   "cell_type": "markdown",
   "id": "11abc922-a69e-43e5-8539-e6f64b87b5b0",
   "metadata": {},
   "source": [
    " The Columns which hold 3/4 percent of data is null, it is better to drop the columns"
   ]
  },
  {
   "cell_type": "code",
   "execution_count": 23,
   "id": "0fed99a4-04cc-42cb-b4c1-ca31f7b216ca",
   "metadata": {},
   "outputs": [],
   "source": [
    "df_n=df[['datetime','ID','Source','Location Source','Latitude','Longitude','Type','Depth','Magnitude','Magnitude Type','Magnitude Source','Status','Root Mean Square']]"
   ]
  },
  {
   "cell_type": "code",
   "execution_count": 24,
   "id": "d8a6fade-ebaf-4aad-a99e-9c2afe92067a",
   "metadata": {},
   "outputs": [
    {
     "data": {
      "text/plain": [
       "Index(['datetime', 'ID', 'Source', 'Location Source', 'Latitude', 'Longitude',\n",
       "       'Type', 'Depth', 'Magnitude', 'Magnitude Type', 'Magnitude Source',\n",
       "       'Status', 'Root Mean Square'],\n",
       "      dtype='object')"
      ]
     },
     "execution_count": 24,
     "metadata": {},
     "output_type": "execute_result"
    }
   ],
   "source": [
    "df_n.columns"
   ]
  },
  {
   "cell_type": "markdown",
   "id": "50289fb0-d63e-46f6-9506-3a8f88f15f8a",
   "metadata": {},
   "source": [
    "The measurement which don't have Magnitude type as well as datetime can't convey information so better to drop them."
   ]
  },
  {
   "cell_type": "code",
   "execution_count": 25,
   "id": "f0da8d83-89cd-49a0-84da-a5f3b60ba5b5",
   "metadata": {},
   "outputs": [
    {
     "data": {
      "text/plain": [
       "<StringArray>\n",
       "['MW', 'ML', 'MH', 'MS', 'MB', 'MWC', 'MD', <NA>, 'MWB', 'MWW', 'MWR']\n",
       "Length: 11, dtype: string"
      ]
     },
     "execution_count": 25,
     "metadata": {},
     "output_type": "execute_result"
    }
   ],
   "source": [
    "df['Magnitude Type'].unique()"
   ]
  },
  {
   "cell_type": "code",
   "execution_count": 26,
   "id": "76719771-5ce9-41d8-9ddf-2f83bbe4b28e",
   "metadata": {},
   "outputs": [
    {
     "data": {
      "text/plain": [
       "(array([6703, 7294, 7919], dtype=int64),)"
      ]
     },
     "execution_count": 26,
     "metadata": {},
     "output_type": "execute_result"
    }
   ],
   "source": [
    "np.where(df['Magnitude Type'].isna())"
   ]
  },
  {
   "cell_type": "code",
   "execution_count": 27,
   "id": "3d653fd0-3cef-4775-8deb-f80ced07f3be",
   "metadata": {},
   "outputs": [],
   "source": [
    "df_n=df_n[df_n['Magnitude Type'].isna()==False]"
   ]
  },
  {
   "cell_type": "code",
   "execution_count": 28,
   "id": "89be3f0f-c81b-4945-8de2-ad595a4af5db",
   "metadata": {
    "scrolled": true
   },
   "outputs": [],
   "source": [
    "df_n=df_n[df_n.datetime.isna()==False]"
   ]
  },
  {
   "cell_type": "markdown",
   "id": "b9e7c8c7-9826-44b9-b95c-f3cbf71eb16b",
   "metadata": {},
   "source": [
    "Fill the missing value of the Root mean square"
   ]
  },
  {
   "cell_type": "code",
   "execution_count": 29,
   "id": "b8496eaa-e81f-443a-b01f-b08a3b917104",
   "metadata": {},
   "outputs": [],
   "source": [
    "df_n['Root Mean Square'].fillna(0,axis=0,inplace=True)"
   ]
  },
  {
   "cell_type": "code",
   "execution_count": 30,
   "id": "388b70d6-2852-495b-aed2-e9c2c11b17c4",
   "metadata": {},
   "outputs": [
    {
     "data": {
      "text/plain": [
       "datetime            0\n",
       "ID                  0\n",
       "Source              0\n",
       "Location Source     0\n",
       "Latitude            0\n",
       "Longitude           0\n",
       "Type                0\n",
       "Depth               0\n",
       "Magnitude           0\n",
       "Magnitude Type      0\n",
       "Magnitude Source    0\n",
       "Status              0\n",
       "Root Mean Square    0\n",
       "dtype: int64"
      ]
     },
     "execution_count": 30,
     "metadata": {},
     "output_type": "execute_result"
    }
   ],
   "source": [
    "df_n.isna().sum()"
   ]
  },
  {
   "cell_type": "code",
   "execution_count": 31,
   "id": "25ac8c2c-bd34-44b1-9534-2bc88fc8256f",
   "metadata": {},
   "outputs": [
    {
     "data": {
      "text/plain": [
       "datetime            datetime64[ns]\n",
       "ID                          string\n",
       "Source                      string\n",
       "Location Source             string\n",
       "Latitude                   Float64\n",
       "Longitude                  Float64\n",
       "Type                        string\n",
       "Depth                      Float64\n",
       "Magnitude                  Float64\n",
       "Magnitude Type              string\n",
       "Magnitude Source            string\n",
       "Status                      string\n",
       "Root Mean Square           Float64\n",
       "dtype: object"
      ]
     },
     "execution_count": 31,
     "metadata": {},
     "output_type": "execute_result"
    }
   ],
   "source": [
    "df_n.dtypes"
   ]
  },
  {
   "cell_type": "code",
   "execution_count": 32,
   "id": "51795e0e-3cc3-4eaf-8961-2fbcff275814",
   "metadata": {},
   "outputs": [],
   "source": [
    "st.write(\"How to find Outlier in our data?\")"
   ]
  },
  {
   "cell_type": "code",
   "execution_count": 33,
   "id": "4b6a3961-f9b9-4238-a37c-14239d7928fe",
   "metadata": {},
   "outputs": [
    {
     "data": {
      "image/png": "[encoded data removed]",
      "text/plain": [
       "<Figure size 640x480 with 1 Axes>"
      ]
     },
     "metadata": {},
     "output_type": "display_data"
    }
   ],
   "source": [
    "st.write(sns.boxplot(df_n['Root Mean Square']))\n"
   ]
  },
  {
   "cell_type": "code",
   "execution_count": 34,
   "id": "263e7f45-f17f-45ed-b8b8-333cda1a5be6",
   "metadata": {
    "scrolled": true
   },
   "outputs": [
    {
     "data": {
      "image/png": "[encoded data removed]",
      "text/plain": [
       "<Figure size 640x480 with 1 Axes>"
      ]
     },
     "metadata": {},
     "output_type": "display_data"
    }
   ],
   "source": [
    "st.write(sns.boxplot(df_n['Magnitude']))"
   ]
  },
  {
   "cell_type": "code",
   "execution_count": 35,
   "id": "425a33f0-2144-4ddc-b406-b31ca5ec542e",
   "metadata": {},
   "outputs": [
    {
     "data": {
      "image/png": "[encoded data removed]",
      "text/plain": [
       "<Figure size 640x480 with 1 Axes>"
      ]
     },
     "metadata": {},
     "output_type": "display_data"
    }
   ],
   "source": [
    "st.write(sns.boxplot(df_n['Depth']))"
   ]
  },
  {
   "cell_type": "code",
   "execution_count": 36,
   "id": "56231304-c1f8-44ef-9b2d-67e7c5f99dd3",
   "metadata": {},
   "outputs": [
    {
     "data": {
      "text/plain": [
       "DeltaGenerator()"
      ]
     },
     "execution_count": 36,
     "metadata": {},
     "output_type": "execute_result"
    }
   ],
   "source": [
    "st.text(\"what information I need to convey?\\\n",
    "1. what is the statistics of earth quake occurrence per last 10 year?\\\n",
    "2. what is the high magnitude of earth quake happened in the last 10 year?\\\n",
    "3.which area of the earth are frequently affected by earth quake?\\\n",
    "4.is there any re-currence or particular trends per year which is known by high frequency of earth quake?\\\n",
    "5.How do we know take prelimenary measure before it happend?\")"
   ]
  },
  {
   "cell_type": "code",
   "execution_count": 37,
   "id": "5bc2709d-ee75-4d32-a232-a5bf1d010aec",
   "metadata": {},
   "outputs": [],
   "source": [
    "st.write('which data columns from the dataframe are important to convey information?')"
   ]
  },
  {
   "cell_type": "code",
   "execution_count": 38,
   "id": "2525d692-bf6e-4e81-8c52-a68e22af3204",
   "metadata": {},
   "outputs": [],
   "source": [
    "df_n=df[['datetime', 'ID', 'Source', 'Location Source', 'Latitude', 'Longitude',\n",
    "       'Type', 'Depth', 'Magnitude', 'Magnitude Type', 'Magnitude Source',\n",
    "       'Status', 'Root Mean Square']]"
   ]
  },
  {
   "cell_type": "code",
   "execution_count": 39,
   "id": "19e4f713-e441-403f-a608-59f60151a4ff",
   "metadata": {},
   "outputs": [],
   "source": [
    "st.write(df_n.columns)"
   ]
  },
  {
   "cell_type": "code",
   "execution_count": 40,
   "id": "544dc38a-ca00-4ec0-96cb-f2b4d07d4284",
   "metadata": {},
   "outputs": [
    {
     "data": {
      "text/plain": [
       "DeltaGenerator()"
      ]
     },
     "execution_count": 40,
     "metadata": {},
     "output_type": "execute_result"
    }
   ],
   "source": [
    "st.text(\"The dataset from 1965 till 2016 didn't help us to make analysis so we limit the data set for only ten years.\")"
   ]
  },
  {
   "cell_type": "code",
   "execution_count": 41,
   "id": "754454e4-52b0-40a8-8d25-a2fcf2861822",
   "metadata": {},
   "outputs": [],
   "source": [
    "st.write(\"1. ten year analysis of data\")\n",
    "df_10=df_n[df_n['datetime'].dt.year>2005]"
   ]
  },
  {
   "cell_type": "code",
   "execution_count": 42,
   "id": "3ecf6c64-311d-4770-b6b2-dcbf7a5030e9",
   "metadata": {},
   "outputs": [
    {
     "data": {
      "text/html": [
       "<div>\n",
       "<style scoped>\n",
       "    .dataframe tbody tr th:only-of-type {\n",
       "        vertical-align: middle;\n",
       "    }\n",
       "\n",
       "    .dataframe tbody tr th {\n",
       "        vertical-align: top;\n",
       "    }\n",
       "\n",
       "    .dataframe thead th {\n",
       "        text-align: right;\n",
       "    }\n",
       "</style>\n",
       "<table border=\"1\" class=\"dataframe\">\n",
       "  <thead>\n",
       "    <tr style=\"text-align: right;\">\n",
       "      <th></th>\n",
       "      <th>datetime</th>\n",
       "      <th>ID</th>\n",
       "      <th>Source</th>\n",
       "      <th>Location Source</th>\n",
       "      <th>Latitude</th>\n",
       "      <th>Longitude</th>\n",
       "      <th>Type</th>\n",
       "      <th>Depth</th>\n",
       "      <th>Magnitude</th>\n",
       "      <th>Magnitude Type</th>\n",
       "      <th>Magnitude Source</th>\n",
       "      <th>Status</th>\n",
       "      <th>Root Mean Square</th>\n",
       "    </tr>\n",
       "  </thead>\n",
       "  <tbody>\n",
       "    <tr>\n",
       "      <th>17697</th>\n",
       "      <td>2006-01-01 07:11:57</td>\n",
       "      <td>USP000E7B5</td>\n",
       "      <td>US</td>\n",
       "      <td>US</td>\n",
       "      <td>31.394</td>\n",
       "      <td>140.131</td>\n",
       "      <td>Earthquake</td>\n",
       "      <td>10.0</td>\n",
       "      <td>5.6</td>\n",
       "      <td>MWB</td>\n",
       "      <td>US</td>\n",
       "      <td>Reviewed</td>\n",
       "      <td>1.35</td>\n",
       "    </tr>\n",
       "    <tr>\n",
       "      <th>17698</th>\n",
       "      <td>2006-01-01 08:47:13</td>\n",
       "      <td>USP000E7B6</td>\n",
       "      <td>US</td>\n",
       "      <td>US</td>\n",
       "      <td>4.735</td>\n",
       "      <td>95.144</td>\n",
       "      <td>Earthquake</td>\n",
       "      <td>51.5</td>\n",
       "      <td>5.5</td>\n",
       "      <td>MWB</td>\n",
       "      <td>US</td>\n",
       "      <td>Reviewed</td>\n",
       "      <td>0.73</td>\n",
       "    </tr>\n",
       "    <tr>\n",
       "      <th>17699</th>\n",
       "      <td>2006-01-02 01:01:24</td>\n",
       "      <td>USP000E7CV</td>\n",
       "      <td>US</td>\n",
       "      <td>US</td>\n",
       "      <td>12.361</td>\n",
       "      <td>144.31</td>\n",
       "      <td>Earthquake</td>\n",
       "      <td>35.2</td>\n",
       "      <td>5.7</td>\n",
       "      <td>MWB</td>\n",
       "      <td>US</td>\n",
       "      <td>Reviewed</td>\n",
       "      <td>1.09</td>\n",
       "    </tr>\n",
       "    <tr>\n",
       "      <th>17700</th>\n",
       "      <td>2006-01-02 06:10:50</td>\n",
       "      <td>USP000E7DD</td>\n",
       "      <td>US</td>\n",
       "      <td>US</td>\n",
       "      <td>-60.957</td>\n",
       "      <td>-21.606</td>\n",
       "      <td>Earthquake</td>\n",
       "      <td>13.0</td>\n",
       "      <td>7.4</td>\n",
       "      <td>MWC</td>\n",
       "      <td>HRV</td>\n",
       "      <td>Reviewed</td>\n",
       "      <td>1.28</td>\n",
       "    </tr>\n",
       "    <tr>\n",
       "      <th>17701</th>\n",
       "      <td>2006-01-02 12:01:46</td>\n",
       "      <td>USP000E7DT</td>\n",
       "      <td>US</td>\n",
       "      <td>US</td>\n",
       "      <td>-4.883</td>\n",
       "      <td>152.343</td>\n",
       "      <td>Earthquake</td>\n",
       "      <td>62.4</td>\n",
       "      <td>5.6</td>\n",
       "      <td>MWC</td>\n",
       "      <td>HRV</td>\n",
       "      <td>Reviewed</td>\n",
       "      <td>0.82</td>\n",
       "    </tr>\n",
       "  </tbody>\n",
       "</table>\n",
       "</div>"
      ],
      "text/plain": [
       "                 datetime          ID Source Location Source  Latitude  \\\n",
       "17697 2006-01-01 07:11:57  USP000E7B5     US              US    31.394   \n",
       "17698 2006-01-01 08:47:13  USP000E7B6     US              US     4.735   \n",
       "17699 2006-01-02 01:01:24  USP000E7CV     US              US    12.361   \n",
       "17700 2006-01-02 06:10:50  USP000E7DD     US              US   -60.957   \n",
       "17701 2006-01-02 12:01:46  USP000E7DT     US              US    -4.883   \n",
       "\n",
       "       Longitude        Type  Depth  Magnitude Magnitude Type  \\\n",
       "17697    140.131  Earthquake   10.0        5.6            MWB   \n",
       "17698     95.144  Earthquake   51.5        5.5            MWB   \n",
       "17699     144.31  Earthquake   35.2        5.7            MWB   \n",
       "17700    -21.606  Earthquake   13.0        7.4            MWC   \n",
       "17701    152.343  Earthquake   62.4        5.6            MWC   \n",
       "\n",
       "      Magnitude Source    Status  Root Mean Square  \n",
       "17697               US  Reviewed              1.35  \n",
       "17698               US  Reviewed              0.73  \n",
       "17699               US  Reviewed              1.09  \n",
       "17700              HRV  Reviewed              1.28  \n",
       "17701              HRV  Reviewed              0.82  "
      ]
     },
     "execution_count": 42,
     "metadata": {},
     "output_type": "execute_result"
    }
   ],
   "source": [
    "df_10.head()"
   ]
  },
  {
   "cell_type": "code",
   "execution_count": 43,
   "id": "a7b7187f-5872-4f78-848c-97e350ff90b0",
   "metadata": {},
   "outputs": [],
   "source": [
    "st.write(df_10.datetime.dt.year.unique())"
   ]
  },
  {
   "cell_type": "code",
   "execution_count": 44,
   "id": "6e18926f-dd14-4df1-8c33-c04e37a40cb4",
   "metadata": {},
   "outputs": [],
   "source": [
    "df_10.reset_index(inplace=True)"
   ]
  },
  {
   "cell_type": "code",
   "execution_count": 45,
   "id": "cf6c314f-0cb2-4855-9d07-01058a8f21fa",
   "metadata": {},
   "outputs": [
    {
     "name": "stderr",
     "output_type": "stream",
     "text": [
      "C:\\Users\\ritaj\\AppData\\Local\\Temp\\ipykernel_27212\\4100248425.py:1: SettingWithCopyWarning: \n",
      "A value is trying to be set on a copy of a slice from a DataFrame\n",
      "\n",
      "See the caveats in the documentation: https://pandas.pydata.org/pandas-docs/stable/user_guide/indexing.html#returning-a-view-versus-a-copy\n",
      "  df_10.drop('index',axis=1,inplace=True)\n"
     ]
    }
   ],
   "source": [
    "df_10.drop('index',axis=1,inplace=True)"
   ]
  },
  {
   "cell_type": "code",
   "execution_count": 46,
   "id": "d0fd52bf-76be-425c-9fe4-b03ed8347cc0",
   "metadata": {
    "scrolled": true
   },
   "outputs": [
    {
     "data": {
      "text/plain": [
       "DeltaGenerator()"
      ]
     },
     "execution_count": 46,
     "metadata": {},
     "output_type": "execute_result"
    }
   ],
   "source": [
    "st.text(\"what is the maximum magnitude of earth quake occured in this 10 year and in which year?\")"
   ]
  },
  {
   "cell_type": "code",
   "execution_count": 47,
   "id": "2e470853-4d72-465a-990a-096cba1f8f6c",
   "metadata": {},
   "outputs": [],
   "source": [
    "st.write(\"Sort value of the ten dataframe per the time\")"
   ]
  },
  {
   "cell_type": "code",
   "execution_count": 48,
   "id": "80c6053f-753b-4915-a61f-fa2cf1e259b6",
   "metadata": {},
   "outputs": [],
   "source": [
    "st.write(df_10.head())"
   ]
  },
  {
   "cell_type": "code",
   "execution_count": 49,
   "id": "de961b36-8cab-4e4e-a762-2d25f90845e7",
   "metadata": {},
   "outputs": [],
   "source": [
    "df_10=df_10.sort_values(by='datetime')"
   ]
  },
  {
   "cell_type": "code",
   "execution_count": 50,
   "id": "72ac3925-c54e-4a31-8408-1cd7e3e4c555",
   "metadata": {},
   "outputs": [],
   "source": [
    "st.write(\"The maximum amount of the magnitude of earth quake in the ten years\")"
   ]
  },
  {
   "cell_type": "code",
   "execution_count": 51,
   "id": "3e8de318-fb40-4252-b304-035635057552",
   "metadata": {},
   "outputs": [],
   "source": [
    "st.write(df_10.loc[df_10['Magnitude']==df_10['Magnitude'].max()][['datetime','Magnitude','Location Source']])"
   ]
  },
  {
   "cell_type": "code",
   "execution_count": 52,
   "id": "1fac3fe1-7852-4cbe-9a19-41b7edc26ecb",
   "metadata": {},
   "outputs": [],
   "source": [
    "st.write(df_10.loc[df_10['Magnitude']==df_10['Magnitude'].min()][['datetime','Magnitude']])"
   ]
  },
  {
   "cell_type": "code",
   "execution_count": 53,
   "id": "a968852d-9482-4f24-a2db-f19866ee9b65",
   "metadata": {
    "scrolled": true
   },
   "outputs": [
    {
     "data": {
      "image/png": "[encoded data removed]",
      "text/plain": [
       "<Figure size 640x480 with 1 Axes>"
      ]
     },
     "metadata": {},
     "output_type": "display_data"
    }
   ],
   "source": [
    "st.write(sns.boxplot(df_10,x=df_10.datetime.dt.year,y=df.Magnitude))"
   ]
  },
  {
   "cell_type": "code",
   "execution_count": 54,
   "id": "3c45e254-049e-4b86-b2f4-4b90bc653b0c",
   "metadata": {},
   "outputs": [],
   "source": [
    "st.write(\"Let us see the ten year trend of earth quake occurence per ten year\")"
   ]
  },
  {
   "cell_type": "code",
   "execution_count": 55,
   "id": "b9766866-d1b8-4a1b-ae86-a00e7eb46802",
   "metadata": {},
   "outputs": [],
   "source": [
    "x=df_10.datetime.dt.year.unique()"
   ]
  },
  {
   "cell_type": "code",
   "execution_count": 56,
   "id": "32e98f09-2c05-44d9-85c5-fb183968244b",
   "metadata": {},
   "outputs": [],
   "source": [
    "st.write(x)"
   ]
  },
  {
   "cell_type": "code",
   "execution_count": 57,
   "id": "9deb051b-b9ca-43ae-9cd0-08d4818ef60b",
   "metadata": {},
   "outputs": [
    {
     "data": {
      "text/plain": [
       "array([2006, 2007, 2008, 2009, 2010, 2011, 2012, 2013, 2014, 2015, 2016],\n",
       "      dtype=int64)"
      ]
     },
     "execution_count": 57,
     "metadata": {},
     "output_type": "execute_result"
    }
   ],
   "source": [
    "x"
   ]
  },
  {
   "cell_type": "code",
   "execution_count": 58,
   "id": "1948affb-f449-4ca0-9a94-50e36427be40",
   "metadata": {},
   "outputs": [
    {
     "data": {
      "text/plain": [
       "5714"
      ]
     },
     "execution_count": 58,
     "metadata": {},
     "output_type": "execute_result"
    }
   ],
   "source": [
    "len(df_10)"
   ]
  },
  {
   "cell_type": "code",
   "execution_count": 59,
   "id": "8741136c-4b44-4c7c-8976-6cd29e6f5f67",
   "metadata": {},
   "outputs": [],
   "source": [
    "y=df_10.groupby(df_10.datetime.dt.year)['Magnitude'].count()"
   ]
  },
  {
   "cell_type": "code",
   "execution_count": 60,
   "id": "01efe743-1fcf-4ed4-99a8-f1c83fb54864",
   "metadata": {},
   "outputs": [],
   "source": [
    "st.write(y)"
   ]
  },
  {
   "cell_type": "code",
   "execution_count": 61,
   "id": "7779de93-4681-46e2-9b43-93910fac0c74",
   "metadata": {},
   "outputs": [
    {
     "data": {
      "text/plain": [
       "datetime\n",
       "2006    508\n",
       "2007    608\n",
       "2008    508\n",
       "2009    517\n",
       "2010    560\n",
       "2011    712\n",
       "2012    445\n",
       "2013    461\n",
       "2014    480\n",
       "2015    446\n",
       "2016    469\n",
       "Name: Magnitude, dtype: int64"
      ]
     },
     "execution_count": 61,
     "metadata": {},
     "output_type": "execute_result"
    }
   ],
   "source": [
    "y"
   ]
  },
  {
   "cell_type": "code",
   "execution_count": 62,
   "id": "0cacbb3f-e111-47fb-9e95-24ea09544660",
   "metadata": {},
   "outputs": [
    {
     "data": {
      "image/png": "[encoded data removed]",
      "text/plain": [
       "<Figure size 640x480 with 1 Axes>"
      ]
     },
     "metadata": {},
     "output_type": "display_data"
    }
   ],
   "source": [
    "st.write(df_10.plot(kind='scatter',x='Longitude',y='Latitude',grid=True))"
   ]
  },
  {
   "cell_type": "code",
   "execution_count": 63,
   "id": "5b59e679-53c8-456a-af7d-ff372668eaa9",
   "metadata": {},
   "outputs": [
    {
     "data": {
      "image/png": "[encoded data removed]",
      "text/plain": [
       "<Figure size 640x480 with 1 Axes>"
      ]
     },
     "metadata": {},
     "output_type": "display_data"
    }
   ],
   "source": [
    "st.write(sns.lineplot(x=x,y=y))"
   ]
  },
  {
   "cell_type": "code",
   "execution_count": 64,
   "id": "cf2974dc-6818-4a6f-8dee-4bbcb7b396f7",
   "metadata": {},
   "outputs": [
    {
     "data": {
      "image/png": "[encoded data removed]",
      "text/plain": [
       "<Figure size 640x480 with 1 Axes>"
      ]
     },
     "metadata": {},
     "output_type": "display_data"
    }
   ],
   "source": [
    "st.write(sns.scatterplot(df_10,x='Latitude',y='Longitude',size=df_10['Magnitude'].astype('int64'),hue=df_10['Magnitude'].astype('int64')))"
   ]
  },
  {
   "cell_type": "markdown",
   "id": "8c9dff02-144f-49c2-9725-20fd70101e17",
   "metadata": {},
   "source": [
    "which are more frequently affected by earth quake?\n"
   ]
  },
  {
   "cell_type": "code",
   "execution_count": 65,
   "id": "4970a7a0-2e1a-4249-9940-12e5a057cbb9",
   "metadata": {},
   "outputs": [],
   "source": [
    "import matplotlib.pyplot as plt"
   ]
  },
  {
   "cell_type": "code",
   "execution_count": 66,
   "id": "367679a2-322c-4cfb-ab1a-cb9ba974431f",
   "metadata": {},
   "outputs": [
    {
     "name": "stderr",
     "output_type": "stream",
     "text": [
      "C:\\Users\\ritaj\\AppData\\Local\\Temp\\ipykernel_27212\\3183117934.py:3: MatplotlibDeprecationWarning: Auto-removal of overlapping axes is deprecated since 3.6 and will be removed two minor releases later; explicitly call ax.remove() as needed.\n",
      "  plt.subplot(1, 2, 1)\n",
      "C:\\Users\\ritaj\\AppData\\Local\\Temp\\ipykernel_27212\\3183117934.py:4: UserWarning: \n",
      "\n",
      "`distplot` is a deprecated function and will be removed in seaborn v0.14.0.\n",
      "\n",
      "Please adapt your code to use either `displot` (a figure-level function with\n",
      "similar flexibility) or `histplot` (an axes-level function for histograms).\n",
      "\n",
      "For a guide to updating your code to use the new functions, please see\n",
      "https://gist.github.com/mwaskom/de44147ed2974457ad6372750bbe5751\n",
      "\n",
      "  sns.distplot(df_10['Depth'])\n"
     ]
    },
    {
     "data": {
      "image/png": "[encoded data removed]",
      "text/plain": [
       "<Figure size 1500x500 with 2 Axes>"
      ]
     },
     "metadata": {},
     "output_type": "display_data"
    }
   ],
   "source": [
    "plt.subplots(figsize=(15, 5))\n",
    " \n",
    "plt.subplot(1, 2, 1)\n",
    "sns.distplot(df_10['Depth'])\n",
    " \n",
    "plt.subplot(1, 2, 2)\n",
    "sns.boxplot(df_10['Depth'])\n",
    "plt.show()"
   ]
  },
  {
   "cell_type": "code",
   "execution_count": 67,
   "id": "cf6124de-f7ad-4207-a0ea-1c3504254bf4",
   "metadata": {},
   "outputs": [
    {
     "data": {
      "text/plain": [
       "Index(['datetime', 'ID', 'Source', 'Location Source', 'Latitude', 'Longitude',\n",
       "       'Type', 'Depth', 'Magnitude', 'Magnitude Type', 'Magnitude Source',\n",
       "       'Status', 'Root Mean Square'],\n",
       "      dtype='object')"
      ]
     },
     "execution_count": 67,
     "metadata": {},
     "output_type": "execute_result"
    }
   ],
   "source": [
    "df_10.columns"
   ]
  },
  {
   "cell_type": "code",
   "execution_count": 68,
   "id": "0965b64c-b91a-4764-904b-6b138e542415",
   "metadata": {},
   "outputs": [
    {
     "data": {
      "text/html": [
       "        <script type=\"text/javascript\">\n",
       "        window.PlotlyConfig = {MathJaxConfig: 'local'};\n",
       "        if (window.MathJax && window.MathJax.Hub && window.MathJax.Hub.Config) {window.MathJax.Hub.Config({SVG: {font: \"STIX-Web\"}});}\n",
       "        if (typeof require !== 'undefined') {\n",
       "        require.undef(\"plotly\");\n",
       "        requirejs.config({\n",
       "            paths: {\n",
       "                'plotly': ['https://cdn.plot.ly/plotly-2.12.1.min']\n",
       "            }\n",
       "        });\n",
       "        require(['plotly'], function(Plotly) {\n",
       "            window._Plotly = Plotly;\n",
       "        });\n",
       "        }\n",
       "        </script>\n",
       "        "
      ]
     },
     "metadata": {},
     "output_type": "display_data"
    }
   ],
   "source": [
    "from plotly.offline import init_notebook_mode, iplot\n",
    "from plotly.graph_objs import *\n",
    "\n",
    "init_notebook_mode(connected=True)  "
   ]
  },
  {
   "cell_type": "code",
   "execution_count": 69,
   "id": "434630d2-e2e5-49e6-be82-32665e92883e",
   "metadata": {},
   "outputs": [
    {
     "name": "stdout",
     "output_type": "stream",
     "text": [
      "Requirement already satisfied: chart-studio in c:\\users\\ritaj\\anaconda3\\lib\\site-packages (1.1.0)\n",
      "Requirement already satisfied: plotly in c:\\users\\ritaj\\anaconda3\\lib\\site-packages (from chart-studio) (5.9.0)\n",
      "Requirement already satisfied: requests in c:\\users\\ritaj\\appdata\\roaming\\python\\python311\\site-packages (from chart-studio) (2.31.0)\n",
      "Requirement already satisfied: retrying>=1.3.3 in c:\\users\\ritaj\\anaconda3\\lib\\site-packages (from chart-studio) (1.3.4)\n",
      "Requirement already satisfied: six in c:\\users\\ritaj\\appdata\\roaming\\python\\python311\\site-packages (from chart-studio) (1.16.0)\n",
      "Requirement already satisfied: tenacity>=6.2.0 in c:\\users\\ritaj\\anaconda3\\lib\\site-packages (from plotly->chart-studio) (8.2.2)\n",
      "Requirement already satisfied: charset-normalizer<4,>=2 in c:\\users\\ritaj\\appdata\\roaming\\python\\python311\\site-packages (from requests->chart-studio) (3.2.0)\n",
      "Requirement already satisfied: idna<4,>=2.5 in c:\\users\\ritaj\\appdata\\roaming\\python\\python311\\site-packages (from requests->chart-studio) (3.4)\n",
      "Requirement already satisfied: urllib3<3,>=1.21.1 in c:\\users\\ritaj\\appdata\\roaming\\python\\python311\\site-packages (from requests->chart-studio) (2.0.4)\n",
      "Requirement already satisfied: certifi>=2017.4.17 in c:\\users\\ritaj\\appdata\\roaming\\python\\python311\\site-packages (from requests->chart-studio) (2023.7.22)\n",
      "Note: you may need to restart the kernel to use updated packages.\n"
     ]
    },
    {
     "name": "stderr",
     "output_type": "stream",
     "text": [
      "\n",
      "[notice] A new release of pip is available: 23.2.1 -> 24.0\n",
      "[notice] To update, run: python.exe -m pip install --upgrade pip\n"
     ]
    }
   ],
   "source": [
    "pip install chart-studio"
   ]
  },
  {
   "cell_type": "code",
   "execution_count": 70,
   "id": "8537db9b-11cd-4eb4-aeac-000988c1d073",
   "metadata": {},
   "outputs": [],
   "source": [
    "import chart_studio.plotly as py"
   ]
  },
  {
   "cell_type": "code",
   "execution_count": 71,
   "id": "bb5d319d-8081-4f2c-8a0c-0497cee36030",
   "metadata": {},
   "outputs": [],
   "source": [
    "import plotly.express as px"
   ]
  },
  {
   "cell_type": "code",
   "execution_count": 72,
   "id": "20709d74-696f-4f8f-8f8d-c0cb4925acf6",
   "metadata": {},
   "outputs": [],
   "source": [
    "#fig_w = px.scatter_geo(df_10, lat='Latitude',\n",
    "   #lon='Longitude',\n",
    "   #color=\"Magnitude\",\n",
    "   #scope='usa')\n",
    "#fig_w.show()"
   ]
  },
  {
   "cell_type": "code",
   "execution_count": 75,
   "id": "cca022e0-c268-471f-9a57-b89a6903416e",
   "metadata": {},
   "outputs": [],
   "source": [
    "#fig = px.scatter_geo(df_10, lat=df_10['Latitude'], lon=df_10['Longitude'],\\\n",
    "   #                  size=df_10['Magnitude'].astype('int64'), size_max=10,scope='usa',\n",
    "    #                 title='Earthquakes Around USA')\n",
    "#fig.show()\n"
   ]
  },
  {
   "cell_type": "code",
   "execution_count": 76,
   "id": "7edd2135-4b63-4e02-89f9-9030f9986bd2",
   "metadata": {},
   "outputs": [],
   "source": [
    "#fig = px.scatter_geo(df_10, lat=df_10['Latitude'], lon=df_10['Longitude'],\n",
    "        #             size=df_10['Magnitude'].astype('int64'), size_max=10,scope='asia',\n",
    "         #            title='Earthquakes Around Asia')\n",
    "#fig.show()"
   ]
  },
  {
   "cell_type": "code",
   "execution_count": 77,
   "id": "94e06f74-d7a1-408a-997a-2fec20a2ad24",
   "metadata": {},
   "outputs": [],
   "source": [
    "#fig = px.scatter_geo(df_10, lat=df_10['Latitude'], lon=df_10['Longitude'],\n",
    "        #            title='Earthquakes Around Europe')\n",
    "#fig.show()"
   ]
  },
  {
   "cell_type": "code",
   "execution_count": 78,
   "id": "cd339fba-efcc-4090-a28b-152f0f8718ac",
   "metadata": {},
   "outputs": [],
   "source": [
    "df_10['cord']=list(zip(df_10.Longitude.astype('int64'), df_10.Latitude.astype('int64')))"
   ]
  },
  {
   "cell_type": "code",
   "execution_count": 79,
   "id": "820442ac-288c-450e-a62d-8652f7b811a6",
   "metadata": {},
   "outputs": [],
   "source": [
    "def cont(data):\n",
    "    continents = []\n",
    "    for lat,lon in data:\n",
    "        if (-35.0 <= lat <= 37.0) and (-17.0 <= lon <= 51.0):\n",
    "            continents.append('Africa')\n",
    "        elif (36.0 <= lat <= 71.0) and (-25.0 <= lon <= 45.0):\n",
    "            continents.append('Europe')\n",
    "        elif (-10.0 <= lat <= 81.0) and (25.0 <= lon <= 180.0):\n",
    "            continents.append('Asia')\n",
    "        elif (5.0 <= lat <= 83.0) and (-168.0 <= lon <= -52.0):\n",
    "            continents.append('North America')\n",
    "        elif (-56.0 <= lat <= 13.0) and (-81.0 <= lon <= -34.0):\n",
    "            continents.append('South America')\n",
    "        elif (-50.0 <= lat <= -10.0) and (110.0 <= lon <= 155.0):\n",
    "            continents.append('Australia')\n",
    "        elif (-90.0 <= lat <= -60.0) and (-180.0 <= lon <= 180.0):\n",
    "            continents.append('Antarctica')\n",
    "        else:\n",
    "            continents.append('Undefined')\n",
    "    return continents\n",
    "        \n",
    "    \n",
    "    \n",
    "     \n",
    "\n",
    "\n",
    "    "
   ]
  },
  {
   "cell_type": "code",
   "execution_count": 80,
   "id": "fa91ed23-d01b-4b11-9689-8009cf0db16f",
   "metadata": {},
   "outputs": [],
   "source": [
    "data=[x for x in df_10['cord']]"
   ]
  },
  {
   "cell_type": "code",
   "execution_count": 81,
   "id": "6bcdc46e-c856-4336-b135-ca60f57e91d8",
   "metadata": {},
   "outputs": [],
   "source": [
    "df_10['Continent']=cont(data)"
   ]
  },
  {
   "cell_type": "code",
   "execution_count": 82,
   "id": "02e1d01a-9fff-4c1f-b1c2-fdad33e8053d",
   "metadata": {},
   "outputs": [],
   "source": [
    "df_cont=df_10[df_10['Continent']!='Undefined']"
   ]
  },
  {
   "cell_type": "code",
   "execution_count": null,
   "id": "30aaeb16-6c93-4e3b-bd59-f98c92ea4991",
   "metadata": {},
   "outputs": [],
   "source": [
    "df_cont[(df_cont['Continent']=='Asia')==True]"
   ]
  },
  {
   "cell_type": "code",
   "execution_count": 85,
   "id": "20dd9806-67a2-4461-a63e-9bfacd6057cf",
   "metadata": {},
   "outputs": [
    {
     "data": {
      "text/plain": [
       "<Axes: xlabel='Continent', ylabel='Magnitude'>"
      ]
     },
     "execution_count": 85,
     "metadata": {},
     "output_type": "execute_result"
    },
    {
     "data": {
      "image/png": "[encoded data removed]",
      "text/plain": [
       "<Figure size 640x480 with 1 Axes>"
      ]
     },
     "metadata": {},
     "output_type": "display_data"
    }
   ],
   "source": [
    "sns.boxplot(df_cont,x=df_cont.Continent,y=df_cont.Magnitude)"
   ]
  },
  {
   "cell_type": "code",
   "execution_count": 86,
   "id": "abe6883f-b4ad-4d50-9623-0c59e68467f3",
   "metadata": {},
   "outputs": [
    {
     "data": {
      "text/plain": [
       "Index(['datetime', 'ID', 'Source', 'Location Source', 'Latitude', 'Longitude',\n",
       "       'Type', 'Depth', 'Magnitude', 'Magnitude Type', 'Magnitude Source',\n",
       "       'Status', 'Root Mean Square', 'cord', 'Continent'],\n",
       "      dtype='object')"
      ]
     },
     "execution_count": 86,
     "metadata": {},
     "output_type": "execute_result"
    }
   ],
   "source": [
    "df_cont.columns"
   ]
  },
  {
   "cell_type": "code",
   "execution_count": 88,
   "id": "c61bb68b-caa4-4643-b67e-7ce5894ff303",
   "metadata": {},
   "outputs": [
    {
     "data": {
      "text/html": [
       "<div>\n",
       "<style scoped>\n",
       "    .dataframe tbody tr th:only-of-type {\n",
       "        vertical-align: middle;\n",
       "    }\n",
       "\n",
       "    .dataframe tbody tr th {\n",
       "        vertical-align: top;\n",
       "    }\n",
       "\n",
       "    .dataframe thead th {\n",
       "        text-align: right;\n",
       "    }\n",
       "</style>\n",
       "<table border=\"1\" class=\"dataframe\">\n",
       "  <thead>\n",
       "    <tr style=\"text-align: right;\">\n",
       "      <th></th>\n",
       "      <th>datetime</th>\n",
       "      <th>ID</th>\n",
       "      <th>Source</th>\n",
       "      <th>Location Source</th>\n",
       "      <th>Latitude</th>\n",
       "      <th>Longitude</th>\n",
       "      <th>Type</th>\n",
       "      <th>Depth</th>\n",
       "      <th>Magnitude</th>\n",
       "      <th>Magnitude Type</th>\n",
       "      <th>Magnitude Source</th>\n",
       "      <th>Status</th>\n",
       "      <th>Root Mean Square</th>\n",
       "      <th>cord</th>\n",
       "    </tr>\n",
       "    <tr>\n",
       "      <th>Continent</th>\n",
       "      <th></th>\n",
       "      <th></th>\n",
       "      <th></th>\n",
       "      <th></th>\n",
       "      <th></th>\n",
       "      <th></th>\n",
       "      <th></th>\n",
       "      <th></th>\n",
       "      <th></th>\n",
       "      <th></th>\n",
       "      <th></th>\n",
       "      <th></th>\n",
       "      <th></th>\n",
       "      <th></th>\n",
       "    </tr>\n",
       "  </thead>\n",
       "  <tbody>\n",
       "    <tr>\n",
       "      <th>Africa</th>\n",
       "      <td>162</td>\n",
       "      <td>162</td>\n",
       "      <td>162</td>\n",
       "      <td>162</td>\n",
       "      <td>162</td>\n",
       "      <td>162</td>\n",
       "      <td>162</td>\n",
       "      <td>162</td>\n",
       "      <td>162</td>\n",
       "      <td>162</td>\n",
       "      <td>162</td>\n",
       "      <td>162</td>\n",
       "      <td>142</td>\n",
       "      <td>162</td>\n",
       "    </tr>\n",
       "    <tr>\n",
       "      <th>Antarctica</th>\n",
       "      <td>694</td>\n",
       "      <td>694</td>\n",
       "      <td>694</td>\n",
       "      <td>694</td>\n",
       "      <td>694</td>\n",
       "      <td>694</td>\n",
       "      <td>694</td>\n",
       "      <td>694</td>\n",
       "      <td>694</td>\n",
       "      <td>694</td>\n",
       "      <td>694</td>\n",
       "      <td>694</td>\n",
       "      <td>651</td>\n",
       "      <td>694</td>\n",
       "    </tr>\n",
       "    <tr>\n",
       "      <th>Asia</th>\n",
       "      <td>38</td>\n",
       "      <td>38</td>\n",
       "      <td>38</td>\n",
       "      <td>38</td>\n",
       "      <td>38</td>\n",
       "      <td>38</td>\n",
       "      <td>38</td>\n",
       "      <td>38</td>\n",
       "      <td>38</td>\n",
       "      <td>38</td>\n",
       "      <td>38</td>\n",
       "      <td>38</td>\n",
       "      <td>38</td>\n",
       "      <td>38</td>\n",
       "    </tr>\n",
       "    <tr>\n",
       "      <th>Europe</th>\n",
       "      <td>168</td>\n",
       "      <td>168</td>\n",
       "      <td>168</td>\n",
       "      <td>168</td>\n",
       "      <td>168</td>\n",
       "      <td>168</td>\n",
       "      <td>168</td>\n",
       "      <td>168</td>\n",
       "      <td>168</td>\n",
       "      <td>168</td>\n",
       "      <td>168</td>\n",
       "      <td>168</td>\n",
       "      <td>155</td>\n",
       "      <td>168</td>\n",
       "    </tr>\n",
       "    <tr>\n",
       "      <th>North America</th>\n",
       "      <td>16</td>\n",
       "      <td>16</td>\n",
       "      <td>16</td>\n",
       "      <td>16</td>\n",
       "      <td>16</td>\n",
       "      <td>16</td>\n",
       "      <td>16</td>\n",
       "      <td>16</td>\n",
       "      <td>16</td>\n",
       "      <td>16</td>\n",
       "      <td>16</td>\n",
       "      <td>16</td>\n",
       "      <td>16</td>\n",
       "      <td>16</td>\n",
       "    </tr>\n",
       "    <tr>\n",
       "      <th>South America</th>\n",
       "      <td>165</td>\n",
       "      <td>165</td>\n",
       "      <td>165</td>\n",
       "      <td>165</td>\n",
       "      <td>165</td>\n",
       "      <td>165</td>\n",
       "      <td>165</td>\n",
       "      <td>165</td>\n",
       "      <td>165</td>\n",
       "      <td>165</td>\n",
       "      <td>165</td>\n",
       "      <td>165</td>\n",
       "      <td>165</td>\n",
       "      <td>165</td>\n",
       "    </tr>\n",
       "  </tbody>\n",
       "</table>\n",
       "</div>"
      ],
      "text/plain": [
       "               datetime   ID  Source  Location Source  Latitude  Longitude  \\\n",
       "Continent                                                                    \n",
       "Africa              162  162     162              162       162        162   \n",
       "Antarctica          694  694     694              694       694        694   \n",
       "Asia                 38   38      38               38        38         38   \n",
       "Europe              168  168     168              168       168        168   \n",
       "North America        16   16      16               16        16         16   \n",
       "South America       165  165     165              165       165        165   \n",
       "\n",
       "               Type  Depth  Magnitude  Magnitude Type  Magnitude Source  \\\n",
       "Continent                                                                 \n",
       "Africa          162    162        162             162               162   \n",
       "Antarctica      694    694        694             694               694   \n",
       "Asia             38     38         38              38                38   \n",
       "Europe          168    168        168             168               168   \n",
       "North America    16     16         16              16                16   \n",
       "South America   165    165        165             165               165   \n",
       "\n",
       "               Status  Root Mean Square  cord  \n",
       "Continent                                      \n",
       "Africa            162               142   162  \n",
       "Antarctica        694               651   694  \n",
       "Asia               38                38    38  \n",
       "Europe            168               155   168  \n",
       "North America      16                16    16  \n",
       "South America     165               165   165  "
      ]
     },
     "execution_count": 88,
     "metadata": {},
     "output_type": "execute_result"
    }
   ],
   "source": [
    "df_cont.groupby('Continent').count()"
   ]
  },
  {
   "cell_type": "code",
   "execution_count": 92,
   "id": "04b37770-2630-4a5f-b812-fef1f4facb07",
   "metadata": {},
   "outputs": [
    {
     "data": {
      "text/plain": [
       "Continent\n",
       "Africa           162\n",
       "Antarctica       694\n",
       "Asia              38\n",
       "Europe           168\n",
       "North America     16\n",
       "South America    165\n",
       "Name: Magnitude, dtype: int64"
      ]
     },
     "execution_count": 92,
     "metadata": {},
     "output_type": "execute_result"
    }
   ],
   "source": [
    "df_cont.groupby(df_cont.Continent)['Magnitude'].count()"
   ]
  },
  {
   "cell_type": "code",
   "execution_count": 99,
   "id": "940bf797-229c-4e43-8ce4-3e2c39dcc806",
   "metadata": {},
   "outputs": [
    {
     "data": {
      "text/plain": [
       "array(['South America', 'Antarctica', 'Africa', 'Europe', 'Asia',\n",
       "       'North America'], dtype=object)"
      ]
     },
     "execution_count": 99,
     "metadata": {},
     "output_type": "execute_result"
    }
   ],
   "source": [
    "df_cont['Continent'].unique()"
   ]
  },
  {
   "cell_type": "code",
   "execution_count": 103,
   "id": "ce6289f4-1e35-4c1c-ac13-7d5b2482215c",
   "metadata": {},
   "outputs": [],
   "source": [
    "continent=[x for x in df_cont['Continent'].unique() ]"
   ]
  },
  {
   "cell_type": "code",
   "execution_count": 102,
   "id": "d860b739-e06e-4112-99a1-e19d2dc723cf",
   "metadata": {},
   "outputs": [
    {
     "data": {
      "text/plain": [
       "['South America', 'Antarctica', 'Africa', 'Europe', 'Asia', 'North America']"
      ]
     },
     "execution_count": 102,
     "metadata": {},
     "output_type": "execute_result"
    }
   ],
   "source": [
    "continet"
   ]
  },
  {
   "cell_type": "code",
   "execution_count": 104,
   "id": "726f6f7b-213f-4f5f-81b7-de09605f988f",
   "metadata": {},
   "outputs": [],
   "source": [
    "count=[x for x in df_cont.groupby(df_cont.Continent)['Magnitude'].count()]"
   ]
  },
  {
   "cell_type": "code",
   "execution_count": 105,
   "id": "b44d75b3-2344-4389-9f21-ab1fa17962b5",
   "metadata": {},
   "outputs": [
    {
     "data": {
      "text/plain": [
       "[162, 694, 38, 168, 16, 165]"
      ]
     },
     "execution_count": 105,
     "metadata": {},
     "output_type": "execute_result"
    }
   ],
   "source": [
    "count"
   ]
  },
  {
   "cell_type": "code",
   "execution_count": 114,
   "id": "09bfc719-727f-4d01-abfa-71500a72ae0b",
   "metadata": {},
   "outputs": [
    {
     "data": {
      "image/png": "[encoded data removed]",
      "text/plain": [
       "<Figure size 640x480 with 1 Axes>"
      ]
     },
     "metadata": {},
     "output_type": "display_data"
    }
   ],
   "source": [
    "\n",
    "fig, ax = plt.subplots()\n",
    "\n",
    "continent = [x for x in df_cont['Continent'].unique()]\n",
    "counts = [x for x in df_cont.groupby(df_cont.Continent)['Magnitude'].count()]\n",
    "\n",
    "bar_labels = ['red', 'blue', 'green', 'orange','yellow','black']\n",
    "bar_colors = ['tab:red', 'tab:blue', 'tab:green', 'tab:orange','tab:red','tab:blue']\n",
    "\n",
    "ax.bar(continent, counts,label=bar_labels, color=bar_colors)\n",
    "\n",
    "ax.set_ylabel('Frequency of Earth quake per continent')\n",
    "ax.set_title('Earth quake occurence per continent')\n",
    "ax.legend(title='continent')\n",
    "\n",
    "plt.show()"
   ]
  },
  {
   "cell_type": "code",
   "execution_count": 115,
   "id": "6ddd3b44-2125-4426-978f-292de4aa5c42",
   "metadata": {},
   "outputs": [],
   "source": [
    "# which continent experince high magnitude of Earth quake?"
   ]
  },
  {
   "cell_type": "code",
   "execution_count": 123,
   "id": "466912be-306e-408e-aeae-54afe526908b",
   "metadata": {},
   "outputs": [
    {
     "data": {
      "text/plain": [
       "(array([0], dtype=int64),)"
      ]
     },
     "execution_count": 123,
     "metadata": {},
     "output_type": "execute_result"
    }
   ],
   "source": [
    "np.where(df_cont['Magnitude'].max())"
   ]
  },
  {
   "cell_type": "code",
   "execution_count": 125,
   "id": "c9eb7221-71bb-474f-8ff9-444140e5ce1b",
   "metadata": {},
   "outputs": [],
   "source": [
    "df_cont=df_10[df_10['Continent']!='Undefined']"
   ]
  },
  {
   "cell_type": "code",
   "execution_count": 126,
   "id": "2e26b5ed-53ad-40a3-85de-d6a3b4739050",
   "metadata": {},
   "outputs": [
    {
     "data": {
      "text/html": [
       "<div>\n",
       "<style scoped>\n",
       "    .dataframe tbody tr th:only-of-type {\n",
       "        vertical-align: middle;\n",
       "    }\n",
       "\n",
       "    .dataframe tbody tr th {\n",
       "        vertical-align: top;\n",
       "    }\n",
       "\n",
       "    .dataframe thead th {\n",
       "        text-align: right;\n",
       "    }\n",
       "</style>\n",
       "<table border=\"1\" class=\"dataframe\">\n",
       "  <thead>\n",
       "    <tr style=\"text-align: right;\">\n",
       "      <th></th>\n",
       "      <th>datetime</th>\n",
       "      <th>ID</th>\n",
       "      <th>Source</th>\n",
       "      <th>Location Source</th>\n",
       "      <th>Latitude</th>\n",
       "      <th>Longitude</th>\n",
       "      <th>Type</th>\n",
       "      <th>Depth</th>\n",
       "      <th>Magnitude</th>\n",
       "      <th>Magnitude Type</th>\n",
       "      <th>Magnitude Source</th>\n",
       "      <th>Status</th>\n",
       "      <th>Root Mean Square</th>\n",
       "      <th>cord</th>\n",
       "      <th>Continent</th>\n",
       "    </tr>\n",
       "  </thead>\n",
       "  <tbody>\n",
       "    <tr>\n",
       "      <th>0</th>\n",
       "      <td>2006-01-01 07:11:57</td>\n",
       "      <td>USP000E7B5</td>\n",
       "      <td>US</td>\n",
       "      <td>US</td>\n",
       "      <td>31.394</td>\n",
       "      <td>140.131</td>\n",
       "      <td>Earthquake</td>\n",
       "      <td>10.0</td>\n",
       "      <td>5.6</td>\n",
       "      <td>MWB</td>\n",
       "      <td>US</td>\n",
       "      <td>Reviewed</td>\n",
       "      <td>1.35</td>\n",
       "      <td>(140, 31)</td>\n",
       "      <td>Undefined</td>\n",
       "    </tr>\n",
       "    <tr>\n",
       "      <th>1</th>\n",
       "      <td>2006-01-01 08:47:13</td>\n",
       "      <td>USP000E7B6</td>\n",
       "      <td>US</td>\n",
       "      <td>US</td>\n",
       "      <td>4.735</td>\n",
       "      <td>95.144</td>\n",
       "      <td>Earthquake</td>\n",
       "      <td>51.5</td>\n",
       "      <td>5.5</td>\n",
       "      <td>MWB</td>\n",
       "      <td>US</td>\n",
       "      <td>Reviewed</td>\n",
       "      <td>0.73</td>\n",
       "      <td>(95, 4)</td>\n",
       "      <td>Undefined</td>\n",
       "    </tr>\n",
       "    <tr>\n",
       "      <th>2</th>\n",
       "      <td>2006-01-02 01:01:24</td>\n",
       "      <td>USP000E7CV</td>\n",
       "      <td>US</td>\n",
       "      <td>US</td>\n",
       "      <td>12.361</td>\n",
       "      <td>144.31</td>\n",
       "      <td>Earthquake</td>\n",
       "      <td>35.2</td>\n",
       "      <td>5.7</td>\n",
       "      <td>MWB</td>\n",
       "      <td>US</td>\n",
       "      <td>Reviewed</td>\n",
       "      <td>1.09</td>\n",
       "      <td>(144, 12)</td>\n",
       "      <td>Undefined</td>\n",
       "    </tr>\n",
       "    <tr>\n",
       "      <th>3</th>\n",
       "      <td>2006-01-02 06:10:50</td>\n",
       "      <td>USP000E7DD</td>\n",
       "      <td>US</td>\n",
       "      <td>US</td>\n",
       "      <td>-60.957</td>\n",
       "      <td>-21.606</td>\n",
       "      <td>Earthquake</td>\n",
       "      <td>13.0</td>\n",
       "      <td>7.4</td>\n",
       "      <td>MWC</td>\n",
       "      <td>HRV</td>\n",
       "      <td>Reviewed</td>\n",
       "      <td>1.28</td>\n",
       "      <td>(-21, -60)</td>\n",
       "      <td>South America</td>\n",
       "    </tr>\n",
       "    <tr>\n",
       "      <th>4</th>\n",
       "      <td>2006-01-02 12:01:46</td>\n",
       "      <td>USP000E7DT</td>\n",
       "      <td>US</td>\n",
       "      <td>US</td>\n",
       "      <td>-4.883</td>\n",
       "      <td>152.343</td>\n",
       "      <td>Earthquake</td>\n",
       "      <td>62.4</td>\n",
       "      <td>5.6</td>\n",
       "      <td>MWC</td>\n",
       "      <td>HRV</td>\n",
       "      <td>Reviewed</td>\n",
       "      <td>0.82</td>\n",
       "      <td>(152, -4)</td>\n",
       "      <td>Undefined</td>\n",
       "    </tr>\n",
       "    <tr>\n",
       "      <th>...</th>\n",
       "      <td>...</td>\n",
       "      <td>...</td>\n",
       "      <td>...</td>\n",
       "      <td>...</td>\n",
       "      <td>...</td>\n",
       "      <td>...</td>\n",
       "      <td>...</td>\n",
       "      <td>...</td>\n",
       "      <td>...</td>\n",
       "      <td>...</td>\n",
       "      <td>...</td>\n",
       "      <td>...</td>\n",
       "      <td>...</td>\n",
       "      <td>...</td>\n",
       "      <td>...</td>\n",
       "    </tr>\n",
       "    <tr>\n",
       "      <th>5709</th>\n",
       "      <td>2016-12-28 08:22:12</td>\n",
       "      <td>NN00570710</td>\n",
       "      <td>NN</td>\n",
       "      <td>NN</td>\n",
       "      <td>38.3917</td>\n",
       "      <td>-118.8941</td>\n",
       "      <td>Earthquake</td>\n",
       "      <td>12.3</td>\n",
       "      <td>5.6</td>\n",
       "      <td>ML</td>\n",
       "      <td>NN</td>\n",
       "      <td>Reviewed</td>\n",
       "      <td>0.1898</td>\n",
       "      <td>(-118, 38)</td>\n",
       "      <td>Undefined</td>\n",
       "    </tr>\n",
       "    <tr>\n",
       "      <th>5710</th>\n",
       "      <td>2016-12-28 09:13:47</td>\n",
       "      <td>NN00570744</td>\n",
       "      <td>NN</td>\n",
       "      <td>NN</td>\n",
       "      <td>38.3777</td>\n",
       "      <td>-118.8957</td>\n",
       "      <td>Earthquake</td>\n",
       "      <td>8.8</td>\n",
       "      <td>5.5</td>\n",
       "      <td>ML</td>\n",
       "      <td>NN</td>\n",
       "      <td>Reviewed</td>\n",
       "      <td>0.2187</td>\n",
       "      <td>(-118, 38)</td>\n",
       "      <td>Undefined</td>\n",
       "    </tr>\n",
       "    <tr>\n",
       "      <th>5711</th>\n",
       "      <td>2016-12-28 12:38:51</td>\n",
       "      <td>US10007NAF</td>\n",
       "      <td>US</td>\n",
       "      <td>US</td>\n",
       "      <td>36.9179</td>\n",
       "      <td>140.4262</td>\n",
       "      <td>Earthquake</td>\n",
       "      <td>10.0</td>\n",
       "      <td>5.9</td>\n",
       "      <td>MWW</td>\n",
       "      <td>US</td>\n",
       "      <td>Reviewed</td>\n",
       "      <td>1.52</td>\n",
       "      <td>(140, 36)</td>\n",
       "      <td>Undefined</td>\n",
       "    </tr>\n",
       "    <tr>\n",
       "      <th>5712</th>\n",
       "      <td>2016-12-29 22:30:19</td>\n",
       "      <td>US10007NL0</td>\n",
       "      <td>US</td>\n",
       "      <td>US</td>\n",
       "      <td>-9.0283</td>\n",
       "      <td>118.6639</td>\n",
       "      <td>Earthquake</td>\n",
       "      <td>79.0</td>\n",
       "      <td>6.3</td>\n",
       "      <td>MWW</td>\n",
       "      <td>US</td>\n",
       "      <td>Reviewed</td>\n",
       "      <td>1.43</td>\n",
       "      <td>(118, -9)</td>\n",
       "      <td>Undefined</td>\n",
       "    </tr>\n",
       "    <tr>\n",
       "      <th>5713</th>\n",
       "      <td>2016-12-30 20:08:28</td>\n",
       "      <td>US10007NTD</td>\n",
       "      <td>US</td>\n",
       "      <td>US</td>\n",
       "      <td>37.3973</td>\n",
       "      <td>141.4103</td>\n",
       "      <td>Earthquake</td>\n",
       "      <td>11.94</td>\n",
       "      <td>5.5</td>\n",
       "      <td>MB</td>\n",
       "      <td>US</td>\n",
       "      <td>Reviewed</td>\n",
       "      <td>0.91</td>\n",
       "      <td>(141, 37)</td>\n",
       "      <td>Undefined</td>\n",
       "    </tr>\n",
       "  </tbody>\n",
       "</table>\n",
       "<p>5714 rows × 15 columns</p>\n",
       "</div>"
      ],
      "text/plain": [
       "                datetime          ID Source Location Source  Latitude  \\\n",
       "0    2006-01-01 07:11:57  USP000E7B5     US              US    31.394   \n",
       "1    2006-01-01 08:47:13  USP000E7B6     US              US     4.735   \n",
       "2    2006-01-02 01:01:24  USP000E7CV     US              US    12.361   \n",
       "3    2006-01-02 06:10:50  USP000E7DD     US              US   -60.957   \n",
       "4    2006-01-02 12:01:46  USP000E7DT     US              US    -4.883   \n",
       "...                  ...         ...    ...             ...       ...   \n",
       "5709 2016-12-28 08:22:12  NN00570710     NN              NN   38.3917   \n",
       "5710 2016-12-28 09:13:47  NN00570744     NN              NN   38.3777   \n",
       "5711 2016-12-28 12:38:51  US10007NAF     US              US   36.9179   \n",
       "5712 2016-12-29 22:30:19  US10007NL0     US              US   -9.0283   \n",
       "5713 2016-12-30 20:08:28  US10007NTD     US              US   37.3973   \n",
       "\n",
       "      Longitude        Type  Depth  Magnitude Magnitude Type Magnitude Source  \\\n",
       "0       140.131  Earthquake   10.0        5.6            MWB               US   \n",
       "1        95.144  Earthquake   51.5        5.5            MWB               US   \n",
       "2        144.31  Earthquake   35.2        5.7            MWB               US   \n",
       "3       -21.606  Earthquake   13.0        7.4            MWC              HRV   \n",
       "4       152.343  Earthquake   62.4        5.6            MWC              HRV   \n",
       "...         ...         ...    ...        ...            ...              ...   \n",
       "5709  -118.8941  Earthquake   12.3        5.6             ML               NN   \n",
       "5710  -118.8957  Earthquake    8.8        5.5             ML               NN   \n",
       "5711   140.4262  Earthquake   10.0        5.9            MWW               US   \n",
       "5712   118.6639  Earthquake   79.0        6.3            MWW               US   \n",
       "5713   141.4103  Earthquake  11.94        5.5             MB               US   \n",
       "\n",
       "        Status  Root Mean Square        cord      Continent  \n",
       "0     Reviewed              1.35   (140, 31)      Undefined  \n",
       "1     Reviewed              0.73     (95, 4)      Undefined  \n",
       "2     Reviewed              1.09   (144, 12)      Undefined  \n",
       "3     Reviewed              1.28  (-21, -60)  South America  \n",
       "4     Reviewed              0.82   (152, -4)      Undefined  \n",
       "...        ...               ...         ...            ...  \n",
       "5709  Reviewed            0.1898  (-118, 38)      Undefined  \n",
       "5710  Reviewed            0.2187  (-118, 38)      Undefined  \n",
       "5711  Reviewed              1.52   (140, 36)      Undefined  \n",
       "5712  Reviewed              1.43   (118, -9)      Undefined  \n",
       "5713  Reviewed              0.91   (141, 37)      Undefined  \n",
       "\n",
       "[5714 rows x 15 columns]"
      ]
     },
     "execution_count": 126,
     "metadata": {},
     "output_type": "execute_result"
    }
   ],
   "source": [
    "df_10"
   ]
  },
  {
   "cell_type": "code",
   "execution_count": 129,
   "id": "fb65cd81-9320-4e54-a01e-ffdcd93ff2a8",
   "metadata": {},
   "outputs": [
    {
     "data": {
      "text/html": [
       "<div>\n",
       "<style scoped>\n",
       "    .dataframe tbody tr th:only-of-type {\n",
       "        vertical-align: middle;\n",
       "    }\n",
       "\n",
       "    .dataframe tbody tr th {\n",
       "        vertical-align: top;\n",
       "    }\n",
       "\n",
       "    .dataframe thead th {\n",
       "        text-align: right;\n",
       "    }\n",
       "</style>\n",
       "<table border=\"1\" class=\"dataframe\">\n",
       "  <thead>\n",
       "    <tr style=\"text-align: right;\">\n",
       "      <th></th>\n",
       "      <th>datetime</th>\n",
       "      <th>ID</th>\n",
       "      <th>Source</th>\n",
       "      <th>Location Source</th>\n",
       "      <th>Latitude</th>\n",
       "      <th>Longitude</th>\n",
       "      <th>Type</th>\n",
       "      <th>Depth</th>\n",
       "      <th>Magnitude</th>\n",
       "      <th>Magnitude Type</th>\n",
       "      <th>Magnitude Source</th>\n",
       "      <th>Status</th>\n",
       "      <th>Root Mean Square</th>\n",
       "      <th>cord</th>\n",
       "      <th>Continent</th>\n",
       "    </tr>\n",
       "  </thead>\n",
       "  <tbody>\n",
       "    <tr>\n",
       "      <th>3</th>\n",
       "      <td>2006-01-02 06:10:50</td>\n",
       "      <td>USP000E7DD</td>\n",
       "      <td>US</td>\n",
       "      <td>US</td>\n",
       "      <td>-60.957</td>\n",
       "      <td>-21.606</td>\n",
       "      <td>Earthquake</td>\n",
       "      <td>13.0</td>\n",
       "      <td>7.4</td>\n",
       "      <td>MWC</td>\n",
       "      <td>HRV</td>\n",
       "      <td>Reviewed</td>\n",
       "      <td>1.28</td>\n",
       "      <td>(-21, -60)</td>\n",
       "      <td>South America</td>\n",
       "    </tr>\n",
       "    <tr>\n",
       "      <th>8</th>\n",
       "      <td>2006-01-04 13:01:33</td>\n",
       "      <td>USP000E7K8</td>\n",
       "      <td>US</td>\n",
       "      <td>US</td>\n",
       "      <td>-22.855</td>\n",
       "      <td>-66.172</td>\n",
       "      <td>Earthquake</td>\n",
       "      <td>242.8</td>\n",
       "      <td>5.5</td>\n",
       "      <td>MWC</td>\n",
       "      <td>HRV</td>\n",
       "      <td>Reviewed</td>\n",
       "      <td>0.99</td>\n",
       "      <td>(-66, -22)</td>\n",
       "      <td>Antarctica</td>\n",
       "    </tr>\n",
       "    <tr>\n",
       "      <th>9</th>\n",
       "      <td>2006-01-05 08:40:46</td>\n",
       "      <td>USP000E7MY</td>\n",
       "      <td>US</td>\n",
       "      <td>US</td>\n",
       "      <td>-56.552</td>\n",
       "      <td>-24.954</td>\n",
       "      <td>Earthquake</td>\n",
       "      <td>10.0</td>\n",
       "      <td>5.7</td>\n",
       "      <td>MWC</td>\n",
       "      <td>HRV</td>\n",
       "      <td>Reviewed</td>\n",
       "      <td>1.22</td>\n",
       "      <td>(-24, -56)</td>\n",
       "      <td>South America</td>\n",
       "    </tr>\n",
       "    <tr>\n",
       "      <th>10</th>\n",
       "      <td>2006-01-06 03:39:59</td>\n",
       "      <td>USP000E7PH</td>\n",
       "      <td>US</td>\n",
       "      <td>US</td>\n",
       "      <td>6.635</td>\n",
       "      <td>-82.337</td>\n",
       "      <td>Earthquake</td>\n",
       "      <td>7.4</td>\n",
       "      <td>6.1</td>\n",
       "      <td>MWB</td>\n",
       "      <td>US</td>\n",
       "      <td>Reviewed</td>\n",
       "      <td>1.05</td>\n",
       "      <td>(-82, 6)</td>\n",
       "      <td>Antarctica</td>\n",
       "    </tr>\n",
       "    <tr>\n",
       "      <th>12</th>\n",
       "      <td>2006-01-08 11:34:56</td>\n",
       "      <td>USP000E7U3</td>\n",
       "      <td>US</td>\n",
       "      <td>US</td>\n",
       "      <td>36.311</td>\n",
       "      <td>23.212</td>\n",
       "      <td>Earthquake</td>\n",
       "      <td>66.0</td>\n",
       "      <td>6.7</td>\n",
       "      <td>MWB</td>\n",
       "      <td>US</td>\n",
       "      <td>Reviewed</td>\n",
       "      <td>1.34</td>\n",
       "      <td>(23, 36)</td>\n",
       "      <td>Africa</td>\n",
       "    </tr>\n",
       "    <tr>\n",
       "      <th>...</th>\n",
       "      <td>...</td>\n",
       "      <td>...</td>\n",
       "      <td>...</td>\n",
       "      <td>...</td>\n",
       "      <td>...</td>\n",
       "      <td>...</td>\n",
       "      <td>...</td>\n",
       "      <td>...</td>\n",
       "      <td>...</td>\n",
       "      <td>...</td>\n",
       "      <td>...</td>\n",
       "      <td>...</td>\n",
       "      <td>...</td>\n",
       "      <td>...</td>\n",
       "      <td>...</td>\n",
       "    </tr>\n",
       "    <tr>\n",
       "      <th>5687</th>\n",
       "      <td>2016-12-16 11:34:58</td>\n",
       "      <td>US2000819R</td>\n",
       "      <td>US</td>\n",
       "      <td>US</td>\n",
       "      <td>14.0882</td>\n",
       "      <td>-90.8691</td>\n",
       "      <td>Earthquake</td>\n",
       "      <td>71.26</td>\n",
       "      <td>5.5</td>\n",
       "      <td>MWW</td>\n",
       "      <td>US</td>\n",
       "      <td>Reviewed</td>\n",
       "      <td>1.26</td>\n",
       "      <td>(-90, 14)</td>\n",
       "      <td>Antarctica</td>\n",
       "    </tr>\n",
       "    <tr>\n",
       "      <th>5696</th>\n",
       "      <td>2016-12-18 13:30:11</td>\n",
       "      <td>US200082AN</td>\n",
       "      <td>US</td>\n",
       "      <td>US</td>\n",
       "      <td>-9.964</td>\n",
       "      <td>-70.9714</td>\n",
       "      <td>Earthquake</td>\n",
       "      <td>622.54</td>\n",
       "      <td>6.4</td>\n",
       "      <td>MWW</td>\n",
       "      <td>US</td>\n",
       "      <td>Reviewed</td>\n",
       "      <td>0.65</td>\n",
       "      <td>(-70, -9)</td>\n",
       "      <td>Antarctica</td>\n",
       "    </tr>\n",
       "    <tr>\n",
       "      <th>5705</th>\n",
       "      <td>2016-12-25 14:22:27</td>\n",
       "      <td>US10007MN3</td>\n",
       "      <td>US</td>\n",
       "      <td>US</td>\n",
       "      <td>-43.4029</td>\n",
       "      <td>-73.9395</td>\n",
       "      <td>Earthquake</td>\n",
       "      <td>38.0</td>\n",
       "      <td>7.6</td>\n",
       "      <td>MWW</td>\n",
       "      <td>US</td>\n",
       "      <td>Reviewed</td>\n",
       "      <td>0.8</td>\n",
       "      <td>(-73, -43)</td>\n",
       "      <td>Antarctica</td>\n",
       "    </tr>\n",
       "    <tr>\n",
       "      <th>5706</th>\n",
       "      <td>2016-12-25 14:32:13</td>\n",
       "      <td>US10007MNB</td>\n",
       "      <td>US</td>\n",
       "      <td>US</td>\n",
       "      <td>-43.481</td>\n",
       "      <td>-74.4771</td>\n",
       "      <td>Earthquake</td>\n",
       "      <td>14.93</td>\n",
       "      <td>5.6</td>\n",
       "      <td>MB</td>\n",
       "      <td>US</td>\n",
       "      <td>Reviewed</td>\n",
       "      <td>0.52</td>\n",
       "      <td>(-74, -43)</td>\n",
       "      <td>Antarctica</td>\n",
       "    </tr>\n",
       "    <tr>\n",
       "      <th>5707</th>\n",
       "      <td>2016-12-27 23:20:56</td>\n",
       "      <td>US10007N3R</td>\n",
       "      <td>US</td>\n",
       "      <td>US</td>\n",
       "      <td>45.7192</td>\n",
       "      <td>26.523</td>\n",
       "      <td>Earthquake</td>\n",
       "      <td>97.0</td>\n",
       "      <td>5.6</td>\n",
       "      <td>MWW</td>\n",
       "      <td>US</td>\n",
       "      <td>Reviewed</td>\n",
       "      <td>0.78</td>\n",
       "      <td>(26, 45)</td>\n",
       "      <td>Africa</td>\n",
       "    </tr>\n",
       "  </tbody>\n",
       "</table>\n",
       "<p>1243 rows × 15 columns</p>\n",
       "</div>"
      ],
      "text/plain": [
       "                datetime          ID Source Location Source  Latitude  \\\n",
       "3    2006-01-02 06:10:50  USP000E7DD     US              US   -60.957   \n",
       "8    2006-01-04 13:01:33  USP000E7K8     US              US   -22.855   \n",
       "9    2006-01-05 08:40:46  USP000E7MY     US              US   -56.552   \n",
       "10   2006-01-06 03:39:59  USP000E7PH     US              US     6.635   \n",
       "12   2006-01-08 11:34:56  USP000E7U3     US              US    36.311   \n",
       "...                  ...         ...    ...             ...       ...   \n",
       "5687 2016-12-16 11:34:58  US2000819R     US              US   14.0882   \n",
       "5696 2016-12-18 13:30:11  US200082AN     US              US    -9.964   \n",
       "5705 2016-12-25 14:22:27  US10007MN3     US              US  -43.4029   \n",
       "5706 2016-12-25 14:32:13  US10007MNB     US              US   -43.481   \n",
       "5707 2016-12-27 23:20:56  US10007N3R     US              US   45.7192   \n",
       "\n",
       "      Longitude        Type   Depth  Magnitude Magnitude Type  \\\n",
       "3       -21.606  Earthquake    13.0        7.4            MWC   \n",
       "8       -66.172  Earthquake   242.8        5.5            MWC   \n",
       "9       -24.954  Earthquake    10.0        5.7            MWC   \n",
       "10      -82.337  Earthquake     7.4        6.1            MWB   \n",
       "12       23.212  Earthquake    66.0        6.7            MWB   \n",
       "...         ...         ...     ...        ...            ...   \n",
       "5687   -90.8691  Earthquake   71.26        5.5            MWW   \n",
       "5696   -70.9714  Earthquake  622.54        6.4            MWW   \n",
       "5705   -73.9395  Earthquake    38.0        7.6            MWW   \n",
       "5706   -74.4771  Earthquake   14.93        5.6             MB   \n",
       "5707     26.523  Earthquake    97.0        5.6            MWW   \n",
       "\n",
       "     Magnitude Source    Status  Root Mean Square        cord      Continent  \n",
       "3                 HRV  Reviewed              1.28  (-21, -60)  South America  \n",
       "8                 HRV  Reviewed              0.99  (-66, -22)     Antarctica  \n",
       "9                 HRV  Reviewed              1.22  (-24, -56)  South America  \n",
       "10                 US  Reviewed              1.05    (-82, 6)     Antarctica  \n",
       "12                 US  Reviewed              1.34    (23, 36)         Africa  \n",
       "...               ...       ...               ...         ...            ...  \n",
       "5687               US  Reviewed              1.26   (-90, 14)     Antarctica  \n",
       "5696               US  Reviewed              0.65   (-70, -9)     Antarctica  \n",
       "5705               US  Reviewed               0.8  (-73, -43)     Antarctica  \n",
       "5706               US  Reviewed              0.52  (-74, -43)     Antarctica  \n",
       "5707               US  Reviewed              0.78    (26, 45)         Africa  \n",
       "\n",
       "[1243 rows x 15 columns]"
      ]
     },
     "execution_count": 129,
     "metadata": {},
     "output_type": "execute_result"
    }
   ],
   "source": [
    "df_10[df_10['Continent']!='Undefined']"
   ]
  },
  {
   "cell_type": "code",
   "execution_count": 130,
   "id": "ac729747-9a21-4da9-acc0-e92a6e2c3f4c",
   "metadata": {},
   "outputs": [
    {
     "data": {
      "text/html": [
       "<div>\n",
       "<style scoped>\n",
       "    .dataframe tbody tr th:only-of-type {\n",
       "        vertical-align: middle;\n",
       "    }\n",
       "\n",
       "    .dataframe tbody tr th {\n",
       "        vertical-align: top;\n",
       "    }\n",
       "\n",
       "    .dataframe thead th {\n",
       "        text-align: right;\n",
       "    }\n",
       "</style>\n",
       "<table border=\"1\" class=\"dataframe\">\n",
       "  <thead>\n",
       "    <tr style=\"text-align: right;\">\n",
       "      <th></th>\n",
       "      <th>datetime</th>\n",
       "      <th>ID</th>\n",
       "      <th>Source</th>\n",
       "      <th>Location Source</th>\n",
       "      <th>Latitude</th>\n",
       "      <th>Longitude</th>\n",
       "      <th>Type</th>\n",
       "      <th>Depth</th>\n",
       "      <th>Magnitude</th>\n",
       "      <th>Magnitude Type</th>\n",
       "      <th>Magnitude Source</th>\n",
       "      <th>Status</th>\n",
       "      <th>Root Mean Square</th>\n",
       "      <th>cord</th>\n",
       "      <th>Continent</th>\n",
       "    </tr>\n",
       "  </thead>\n",
       "  <tbody>\n",
       "    <tr>\n",
       "      <th>3</th>\n",
       "      <td>2006-01-02 06:10:50</td>\n",
       "      <td>USP000E7DD</td>\n",
       "      <td>US</td>\n",
       "      <td>US</td>\n",
       "      <td>-60.957</td>\n",
       "      <td>-21.606</td>\n",
       "      <td>Earthquake</td>\n",
       "      <td>13.0</td>\n",
       "      <td>7.4</td>\n",
       "      <td>MWC</td>\n",
       "      <td>HRV</td>\n",
       "      <td>Reviewed</td>\n",
       "      <td>1.28</td>\n",
       "      <td>(-21, -60)</td>\n",
       "      <td>South America</td>\n",
       "    </tr>\n",
       "    <tr>\n",
       "      <th>8</th>\n",
       "      <td>2006-01-04 13:01:33</td>\n",
       "      <td>USP000E7K8</td>\n",
       "      <td>US</td>\n",
       "      <td>US</td>\n",
       "      <td>-22.855</td>\n",
       "      <td>-66.172</td>\n",
       "      <td>Earthquake</td>\n",
       "      <td>242.8</td>\n",
       "      <td>5.5</td>\n",
       "      <td>MWC</td>\n",
       "      <td>HRV</td>\n",
       "      <td>Reviewed</td>\n",
       "      <td>0.99</td>\n",
       "      <td>(-66, -22)</td>\n",
       "      <td>Antarctica</td>\n",
       "    </tr>\n",
       "    <tr>\n",
       "      <th>9</th>\n",
       "      <td>2006-01-05 08:40:46</td>\n",
       "      <td>USP000E7MY</td>\n",
       "      <td>US</td>\n",
       "      <td>US</td>\n",
       "      <td>-56.552</td>\n",
       "      <td>-24.954</td>\n",
       "      <td>Earthquake</td>\n",
       "      <td>10.0</td>\n",
       "      <td>5.7</td>\n",
       "      <td>MWC</td>\n",
       "      <td>HRV</td>\n",
       "      <td>Reviewed</td>\n",
       "      <td>1.22</td>\n",
       "      <td>(-24, -56)</td>\n",
       "      <td>South America</td>\n",
       "    </tr>\n",
       "    <tr>\n",
       "      <th>10</th>\n",
       "      <td>2006-01-06 03:39:59</td>\n",
       "      <td>USP000E7PH</td>\n",
       "      <td>US</td>\n",
       "      <td>US</td>\n",
       "      <td>6.635</td>\n",
       "      <td>-82.337</td>\n",
       "      <td>Earthquake</td>\n",
       "      <td>7.4</td>\n",
       "      <td>6.1</td>\n",
       "      <td>MWB</td>\n",
       "      <td>US</td>\n",
       "      <td>Reviewed</td>\n",
       "      <td>1.05</td>\n",
       "      <td>(-82, 6)</td>\n",
       "      <td>Antarctica</td>\n",
       "    </tr>\n",
       "    <tr>\n",
       "      <th>12</th>\n",
       "      <td>2006-01-08 11:34:56</td>\n",
       "      <td>USP000E7U3</td>\n",
       "      <td>US</td>\n",
       "      <td>US</td>\n",
       "      <td>36.311</td>\n",
       "      <td>23.212</td>\n",
       "      <td>Earthquake</td>\n",
       "      <td>66.0</td>\n",
       "      <td>6.7</td>\n",
       "      <td>MWB</td>\n",
       "      <td>US</td>\n",
       "      <td>Reviewed</td>\n",
       "      <td>1.34</td>\n",
       "      <td>(23, 36)</td>\n",
       "      <td>Africa</td>\n",
       "    </tr>\n",
       "    <tr>\n",
       "      <th>...</th>\n",
       "      <td>...</td>\n",
       "      <td>...</td>\n",
       "      <td>...</td>\n",
       "      <td>...</td>\n",
       "      <td>...</td>\n",
       "      <td>...</td>\n",
       "      <td>...</td>\n",
       "      <td>...</td>\n",
       "      <td>...</td>\n",
       "      <td>...</td>\n",
       "      <td>...</td>\n",
       "      <td>...</td>\n",
       "      <td>...</td>\n",
       "      <td>...</td>\n",
       "      <td>...</td>\n",
       "    </tr>\n",
       "    <tr>\n",
       "      <th>5687</th>\n",
       "      <td>2016-12-16 11:34:58</td>\n",
       "      <td>US2000819R</td>\n",
       "      <td>US</td>\n",
       "      <td>US</td>\n",
       "      <td>14.0882</td>\n",
       "      <td>-90.8691</td>\n",
       "      <td>Earthquake</td>\n",
       "      <td>71.26</td>\n",
       "      <td>5.5</td>\n",
       "      <td>MWW</td>\n",
       "      <td>US</td>\n",
       "      <td>Reviewed</td>\n",
       "      <td>1.26</td>\n",
       "      <td>(-90, 14)</td>\n",
       "      <td>Antarctica</td>\n",
       "    </tr>\n",
       "    <tr>\n",
       "      <th>5696</th>\n",
       "      <td>2016-12-18 13:30:11</td>\n",
       "      <td>US200082AN</td>\n",
       "      <td>US</td>\n",
       "      <td>US</td>\n",
       "      <td>-9.964</td>\n",
       "      <td>-70.9714</td>\n",
       "      <td>Earthquake</td>\n",
       "      <td>622.54</td>\n",
       "      <td>6.4</td>\n",
       "      <td>MWW</td>\n",
       "      <td>US</td>\n",
       "      <td>Reviewed</td>\n",
       "      <td>0.65</td>\n",
       "      <td>(-70, -9)</td>\n",
       "      <td>Antarctica</td>\n",
       "    </tr>\n",
       "    <tr>\n",
       "      <th>5705</th>\n",
       "      <td>2016-12-25 14:22:27</td>\n",
       "      <td>US10007MN3</td>\n",
       "      <td>US</td>\n",
       "      <td>US</td>\n",
       "      <td>-43.4029</td>\n",
       "      <td>-73.9395</td>\n",
       "      <td>Earthquake</td>\n",
       "      <td>38.0</td>\n",
       "      <td>7.6</td>\n",
       "      <td>MWW</td>\n",
       "      <td>US</td>\n",
       "      <td>Reviewed</td>\n",
       "      <td>0.8</td>\n",
       "      <td>(-73, -43)</td>\n",
       "      <td>Antarctica</td>\n",
       "    </tr>\n",
       "    <tr>\n",
       "      <th>5706</th>\n",
       "      <td>2016-12-25 14:32:13</td>\n",
       "      <td>US10007MNB</td>\n",
       "      <td>US</td>\n",
       "      <td>US</td>\n",
       "      <td>-43.481</td>\n",
       "      <td>-74.4771</td>\n",
       "      <td>Earthquake</td>\n",
       "      <td>14.93</td>\n",
       "      <td>5.6</td>\n",
       "      <td>MB</td>\n",
       "      <td>US</td>\n",
       "      <td>Reviewed</td>\n",
       "      <td>0.52</td>\n",
       "      <td>(-74, -43)</td>\n",
       "      <td>Antarctica</td>\n",
       "    </tr>\n",
       "    <tr>\n",
       "      <th>5707</th>\n",
       "      <td>2016-12-27 23:20:56</td>\n",
       "      <td>US10007N3R</td>\n",
       "      <td>US</td>\n",
       "      <td>US</td>\n",
       "      <td>45.7192</td>\n",
       "      <td>26.523</td>\n",
       "      <td>Earthquake</td>\n",
       "      <td>97.0</td>\n",
       "      <td>5.6</td>\n",
       "      <td>MWW</td>\n",
       "      <td>US</td>\n",
       "      <td>Reviewed</td>\n",
       "      <td>0.78</td>\n",
       "      <td>(26, 45)</td>\n",
       "      <td>Africa</td>\n",
       "    </tr>\n",
       "  </tbody>\n",
       "</table>\n",
       "<p>1243 rows × 15 columns</p>\n",
       "</div>"
      ],
      "text/plain": [
       "                datetime          ID Source Location Source  Latitude  \\\n",
       "3    2006-01-02 06:10:50  USP000E7DD     US              US   -60.957   \n",
       "8    2006-01-04 13:01:33  USP000E7K8     US              US   -22.855   \n",
       "9    2006-01-05 08:40:46  USP000E7MY     US              US   -56.552   \n",
       "10   2006-01-06 03:39:59  USP000E7PH     US              US     6.635   \n",
       "12   2006-01-08 11:34:56  USP000E7U3     US              US    36.311   \n",
       "...                  ...         ...    ...             ...       ...   \n",
       "5687 2016-12-16 11:34:58  US2000819R     US              US   14.0882   \n",
       "5696 2016-12-18 13:30:11  US200082AN     US              US    -9.964   \n",
       "5705 2016-12-25 14:22:27  US10007MN3     US              US  -43.4029   \n",
       "5706 2016-12-25 14:32:13  US10007MNB     US              US   -43.481   \n",
       "5707 2016-12-27 23:20:56  US10007N3R     US              US   45.7192   \n",
       "\n",
       "      Longitude        Type   Depth  Magnitude Magnitude Type  \\\n",
       "3       -21.606  Earthquake    13.0        7.4            MWC   \n",
       "8       -66.172  Earthquake   242.8        5.5            MWC   \n",
       "9       -24.954  Earthquake    10.0        5.7            MWC   \n",
       "10      -82.337  Earthquake     7.4        6.1            MWB   \n",
       "12       23.212  Earthquake    66.0        6.7            MWB   \n",
       "...         ...         ...     ...        ...            ...   \n",
       "5687   -90.8691  Earthquake   71.26        5.5            MWW   \n",
       "5696   -70.9714  Earthquake  622.54        6.4            MWW   \n",
       "5705   -73.9395  Earthquake    38.0        7.6            MWW   \n",
       "5706   -74.4771  Earthquake   14.93        5.6             MB   \n",
       "5707     26.523  Earthquake    97.0        5.6            MWW   \n",
       "\n",
       "     Magnitude Source    Status  Root Mean Square        cord      Continent  \n",
       "3                 HRV  Reviewed              1.28  (-21, -60)  South America  \n",
       "8                 HRV  Reviewed              0.99  (-66, -22)     Antarctica  \n",
       "9                 HRV  Reviewed              1.22  (-24, -56)  South America  \n",
       "10                 US  Reviewed              1.05    (-82, 6)     Antarctica  \n",
       "12                 US  Reviewed              1.34    (23, 36)         Africa  \n",
       "...               ...       ...               ...         ...            ...  \n",
       "5687               US  Reviewed              1.26   (-90, 14)     Antarctica  \n",
       "5696               US  Reviewed              0.65   (-70, -9)     Antarctica  \n",
       "5705               US  Reviewed               0.8  (-73, -43)     Antarctica  \n",
       "5706               US  Reviewed              0.52  (-74, -43)     Antarctica  \n",
       "5707               US  Reviewed              0.78    (26, 45)         Africa  \n",
       "\n",
       "[1243 rows x 15 columns]"
      ]
     },
     "execution_count": 130,
     "metadata": {},
     "output_type": "execute_result"
    }
   ],
   "source": [
    "df_10[df_10['Continent']!='Undefined']"
   ]
  },
  {
   "cell_type": "code",
   "execution_count": 131,
   "id": "ed7c550a-8cc9-4fb3-ae03-af981be5820a",
   "metadata": {},
   "outputs": [],
   "source": [
    "df_10=df_10[df_10['Continent'] !='Undefined']"
   ]
  },
  {
   "cell_type": "code",
   "execution_count": 132,
   "id": "80295e35-0218-4d4e-89a9-3c89b2a002a0",
   "metadata": {},
   "outputs": [
    {
     "data": {
      "text/html": [
       "<div>\n",
       "<style scoped>\n",
       "    .dataframe tbody tr th:only-of-type {\n",
       "        vertical-align: middle;\n",
       "    }\n",
       "\n",
       "    .dataframe tbody tr th {\n",
       "        vertical-align: top;\n",
       "    }\n",
       "\n",
       "    .dataframe thead th {\n",
       "        text-align: right;\n",
       "    }\n",
       "</style>\n",
       "<table border=\"1\" class=\"dataframe\">\n",
       "  <thead>\n",
       "    <tr style=\"text-align: right;\">\n",
       "      <th></th>\n",
       "      <th>datetime</th>\n",
       "      <th>ID</th>\n",
       "      <th>Source</th>\n",
       "      <th>Location Source</th>\n",
       "      <th>Latitude</th>\n",
       "      <th>Longitude</th>\n",
       "      <th>Type</th>\n",
       "      <th>Depth</th>\n",
       "      <th>Magnitude</th>\n",
       "      <th>Magnitude Type</th>\n",
       "      <th>Magnitude Source</th>\n",
       "      <th>Status</th>\n",
       "      <th>Root Mean Square</th>\n",
       "      <th>cord</th>\n",
       "      <th>Continent</th>\n",
       "    </tr>\n",
       "  </thead>\n",
       "  <tbody>\n",
       "    <tr>\n",
       "      <th>3</th>\n",
       "      <td>2006-01-02 06:10:50</td>\n",
       "      <td>USP000E7DD</td>\n",
       "      <td>US</td>\n",
       "      <td>US</td>\n",
       "      <td>-60.957</td>\n",
       "      <td>-21.606</td>\n",
       "      <td>Earthquake</td>\n",
       "      <td>13.0</td>\n",
       "      <td>7.4</td>\n",
       "      <td>MWC</td>\n",
       "      <td>HRV</td>\n",
       "      <td>Reviewed</td>\n",
       "      <td>1.28</td>\n",
       "      <td>(-21, -60)</td>\n",
       "      <td>South America</td>\n",
       "    </tr>\n",
       "    <tr>\n",
       "      <th>8</th>\n",
       "      <td>2006-01-04 13:01:33</td>\n",
       "      <td>USP000E7K8</td>\n",
       "      <td>US</td>\n",
       "      <td>US</td>\n",
       "      <td>-22.855</td>\n",
       "      <td>-66.172</td>\n",
       "      <td>Earthquake</td>\n",
       "      <td>242.8</td>\n",
       "      <td>5.5</td>\n",
       "      <td>MWC</td>\n",
       "      <td>HRV</td>\n",
       "      <td>Reviewed</td>\n",
       "      <td>0.99</td>\n",
       "      <td>(-66, -22)</td>\n",
       "      <td>Antarctica</td>\n",
       "    </tr>\n",
       "    <tr>\n",
       "      <th>9</th>\n",
       "      <td>2006-01-05 08:40:46</td>\n",
       "      <td>USP000E7MY</td>\n",
       "      <td>US</td>\n",
       "      <td>US</td>\n",
       "      <td>-56.552</td>\n",
       "      <td>-24.954</td>\n",
       "      <td>Earthquake</td>\n",
       "      <td>10.0</td>\n",
       "      <td>5.7</td>\n",
       "      <td>MWC</td>\n",
       "      <td>HRV</td>\n",
       "      <td>Reviewed</td>\n",
       "      <td>1.22</td>\n",
       "      <td>(-24, -56)</td>\n",
       "      <td>South America</td>\n",
       "    </tr>\n",
       "    <tr>\n",
       "      <th>10</th>\n",
       "      <td>2006-01-06 03:39:59</td>\n",
       "      <td>USP000E7PH</td>\n",
       "      <td>US</td>\n",
       "      <td>US</td>\n",
       "      <td>6.635</td>\n",
       "      <td>-82.337</td>\n",
       "      <td>Earthquake</td>\n",
       "      <td>7.4</td>\n",
       "      <td>6.1</td>\n",
       "      <td>MWB</td>\n",
       "      <td>US</td>\n",
       "      <td>Reviewed</td>\n",
       "      <td>1.05</td>\n",
       "      <td>(-82, 6)</td>\n",
       "      <td>Antarctica</td>\n",
       "    </tr>\n",
       "    <tr>\n",
       "      <th>12</th>\n",
       "      <td>2006-01-08 11:34:56</td>\n",
       "      <td>USP000E7U3</td>\n",
       "      <td>US</td>\n",
       "      <td>US</td>\n",
       "      <td>36.311</td>\n",
       "      <td>23.212</td>\n",
       "      <td>Earthquake</td>\n",
       "      <td>66.0</td>\n",
       "      <td>6.7</td>\n",
       "      <td>MWB</td>\n",
       "      <td>US</td>\n",
       "      <td>Reviewed</td>\n",
       "      <td>1.34</td>\n",
       "      <td>(23, 36)</td>\n",
       "      <td>Africa</td>\n",
       "    </tr>\n",
       "  </tbody>\n",
       "</table>\n",
       "</div>"
      ],
      "text/plain": [
       "              datetime          ID Source Location Source  Latitude  \\\n",
       "3  2006-01-02 06:10:50  USP000E7DD     US              US   -60.957   \n",
       "8  2006-01-04 13:01:33  USP000E7K8     US              US   -22.855   \n",
       "9  2006-01-05 08:40:46  USP000E7MY     US              US   -56.552   \n",
       "10 2006-01-06 03:39:59  USP000E7PH     US              US     6.635   \n",
       "12 2006-01-08 11:34:56  USP000E7U3     US              US    36.311   \n",
       "\n",
       "    Longitude        Type  Depth  Magnitude Magnitude Type Magnitude Source  \\\n",
       "3     -21.606  Earthquake   13.0        7.4            MWC              HRV   \n",
       "8     -66.172  Earthquake  242.8        5.5            MWC              HRV   \n",
       "9     -24.954  Earthquake   10.0        5.7            MWC              HRV   \n",
       "10    -82.337  Earthquake    7.4        6.1            MWB               US   \n",
       "12     23.212  Earthquake   66.0        6.7            MWB               US   \n",
       "\n",
       "      Status  Root Mean Square        cord      Continent  \n",
       "3   Reviewed              1.28  (-21, -60)  South America  \n",
       "8   Reviewed              0.99  (-66, -22)     Antarctica  \n",
       "9   Reviewed              1.22  (-24, -56)  South America  \n",
       "10  Reviewed              1.05    (-82, 6)     Antarctica  \n",
       "12  Reviewed              1.34    (23, 36)         Africa  "
      ]
     },
     "execution_count": 132,
     "metadata": {},
     "output_type": "execute_result"
    }
   ],
   "source": [
    "df_10.head()"
   ]
  },
  {
   "cell_type": "code",
   "execution_count": 133,
   "id": "8e6e8d53-e576-4bc6-a3ee-e30e13c50a33",
   "metadata": {},
   "outputs": [
    {
     "data": {
      "text/plain": [
       "23412"
      ]
     },
     "execution_count": 133,
     "metadata": {},
     "output_type": "execute_result"
    }
   ],
   "source": [
    "len(df)"
   ]
  },
  {
   "cell_type": "code",
   "execution_count": 134,
   "id": "bb733dad-d530-4d73-a40e-bbf18f259af6",
   "metadata": {},
   "outputs": [
    {
     "data": {
      "text/html": [
       "<div>\n",
       "<style scoped>\n",
       "    .dataframe tbody tr th:only-of-type {\n",
       "        vertical-align: middle;\n",
       "    }\n",
       "\n",
       "    .dataframe tbody tr th {\n",
       "        vertical-align: top;\n",
       "    }\n",
       "\n",
       "    .dataframe thead th {\n",
       "        text-align: right;\n",
       "    }\n",
       "</style>\n",
       "<table border=\"1\" class=\"dataframe\">\n",
       "  <thead>\n",
       "    <tr style=\"text-align: right;\">\n",
       "      <th></th>\n",
       "      <th>datetime</th>\n",
       "      <th>ID</th>\n",
       "      <th>Source</th>\n",
       "      <th>Location Source</th>\n",
       "      <th>Latitude</th>\n",
       "      <th>Longitude</th>\n",
       "      <th>Type</th>\n",
       "      <th>Depth</th>\n",
       "      <th>Magnitude</th>\n",
       "      <th>Magnitude Type</th>\n",
       "      <th>Magnitude Source</th>\n",
       "      <th>Status</th>\n",
       "      <th>Root Mean Square</th>\n",
       "      <th>cord</th>\n",
       "      <th>Continent</th>\n",
       "    </tr>\n",
       "  </thead>\n",
       "  <tbody>\n",
       "    <tr>\n",
       "      <th>2231</th>\n",
       "      <td>2010-02-27 06:34:12</td>\n",
       "      <td>OFFICIAL20100227063411530_30</td>\n",
       "      <td>OFFICIAL</td>\n",
       "      <td>US</td>\n",
       "      <td>-36.122</td>\n",
       "      <td>-72.898</td>\n",
       "      <td>Earthquake</td>\n",
       "      <td>22.9</td>\n",
       "      <td>8.8</td>\n",
       "      <td>MWW</td>\n",
       "      <td>OFFICIAL</td>\n",
       "      <td>Reviewed</td>\n",
       "      <td>1.09</td>\n",
       "      <td>(-72, -36)</td>\n",
       "      <td>Antarctica</td>\n",
       "    </tr>\n",
       "  </tbody>\n",
       "</table>\n",
       "</div>"
      ],
      "text/plain": [
       "                datetime                            ID    Source  \\\n",
       "2231 2010-02-27 06:34:12  OFFICIAL20100227063411530_30  OFFICIAL   \n",
       "\n",
       "     Location Source  Latitude  Longitude        Type  Depth  Magnitude  \\\n",
       "2231              US   -36.122    -72.898  Earthquake   22.9        8.8   \n",
       "\n",
       "     Magnitude Type Magnitude Source    Status  Root Mean Square        cord  \\\n",
       "2231            MWW         OFFICIAL  Reviewed              1.09  (-72, -36)   \n",
       "\n",
       "       Continent  \n",
       "2231  Antarctica  "
      ]
     },
     "execution_count": 134,
     "metadata": {},
     "output_type": "execute_result"
    }
   ],
   "source": [
    "df_10.loc[df_10['Magnitude']==df_10['Magnitude'].max()]"
   ]
  },
  {
   "cell_type": "code",
   "execution_count": null,
   "id": "c4e5e666-7c3b-47d8-adde-adcf24e77a2b",
   "metadata": {},
   "outputs": [],
   "source": []
  }
 ],
 "metadata": {
  "kernelspec": {
   "display_name": "Python 3 (ipykernel)",
   "language": "python",
   "name": "python3"
  },
  "language_info": {
   "codemirror_mode": {
    "name": "ipython",
    "version": 3
   },
   "file_extension": ".py",
   "mimetype": "text/x-python",
   "name": "python",
   "nbconvert_exporter": "python",
   "pygments_lexer": "ipython3",
   "version": "3.11.4"
  }
 },
 "nbformat": 4,
 "nbformat_minor": 5
}
